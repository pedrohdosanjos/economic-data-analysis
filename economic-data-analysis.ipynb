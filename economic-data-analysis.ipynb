{
 "cells": [
  {
   "cell_type": "code",
   "execution_count": 68,
   "id": "8dcc5c12",
   "metadata": {},
   "outputs": [],
   "source": [
    "import pandas as pd\n",
    "import plotly.express as px\n",
    "import matplotlib.pyplot as plt\n",
    "from fredapi import Fred\n",
    "import plotly.graph_objects as go  "
   ]
  },
  {
   "cell_type": "code",
   "execution_count": 69,
   "id": "24e2c84d",
   "metadata": {},
   "outputs": [],
   "source": [
    "api_key = 'd9e1b91ef550d751302df0e2a7bd5685'\n",
    "\n",
    "fred = Fred(api_key=api_key)\n",
    "plt.style.use('fivethirtyeight')"
   ]
  },
  {
   "cell_type": "code",
   "execution_count": 70,
   "id": "6fb8b4b9",
   "metadata": {},
   "outputs": [],
   "source": [
    "# search for Brazil exports data\n",
    "br_results = fred.search(\"Brazil exports\")\n",
    "br_results = br_results.loc[br_results['title'].str.contains(\"Value of Exports to Brazil from \")]"
   ]
  },
  {
   "cell_type": "code",
   "execution_count": 71,
   "id": "8fa57e84",
   "metadata": {},
   "outputs": [],
   "source": [
    "# get a list of state names\n",
    "state_names = br_results['title'].str.replace(\"Value of Exports to Brazil from \", \"\", regex=False).to_list()\n"
   ]
  },
  {
   "cell_type": "code",
   "execution_count": 72,
   "id": "61424c5c",
   "metadata": {},
   "outputs": [],
   "source": [
    "# go through each result and get the series data\n",
    "all_results = []\n",
    "\n",
    "for i, id in enumerate(br_results.index):\n",
    "    result = fred.get_series(id)\n",
    "    result = result.to_frame(name=state_names[i])\n",
    "    all_results.append(result)"
   ]
  },
  {
   "cell_type": "code",
   "execution_count": 73,
   "id": "351b5afd",
   "metadata": {},
   "outputs": [],
   "source": [
    "# concatenate all results into a single df\n",
    "exports = pd.concat(all_results, axis=1)\n",
    "\n",
    "# drop rows where all values are NaN\n",
    "exports = exports.dropna(how='all').fillna(0)"
   ]
  },
  {
   "cell_type": "code",
   "execution_count": 74,
   "id": "92680dd8",
   "metadata": {},
   "outputs": [
    {
     "data": {
      "application/vnd.plotly.v1+json": {
       "config": {
        "plotlyServerURL": "https://plot.ly"
       },
       "data": [
        {
         "hovertemplate": "variable=Wyoming<br>index=%{x}<br>value=%{y}<extra></extra>",
         "legendgroup": "Wyoming",
         "line": {
          "color": "#636efa",
          "dash": "solid"
         },
         "marker": {
          "symbol": "circle"
         },
         "mode": "lines",
         "name": "Wyoming",
         "orientation": "v",
         "showlegend": true,
         "type": "scatter",
         "x": [
          "1992-01-01T00:00:00.000000000",
          "1997-01-01T00:00:00.000000000",
          "2002-01-01T00:00:00.000000000",
          "2003-01-01T00:00:00.000000000",
          "2004-01-01T00:00:00.000000000",
          "2005-01-01T00:00:00.000000000",
          "2006-01-01T00:00:00.000000000",
          "2007-01-01T00:00:00.000000000",
          "2008-01-01T00:00:00.000000000",
          "2009-01-01T00:00:00.000000000",
          "2010-01-01T00:00:00.000000000",
          "2011-01-01T00:00:00.000000000",
          "2012-01-01T00:00:00.000000000",
          "2013-01-01T00:00:00.000000000",
          "2014-01-01T00:00:00.000000000",
          "2015-01-01T00:00:00.000000000",
          "2016-01-01T00:00:00.000000000",
          "2017-01-01T00:00:00.000000000"
         ],
         "xaxis": "x",
         "y": {
          "bdata": "AAAAAAAAAAAAAAAAAAAAAAAAAAAAAAAAAAAAAAAAAAAAAAAAAAAAAAAAAAAAAAAAAAAAAAAAAAAAAAAAAAAAAAAAAAAAAAAAAAAAAAAAAAAAAAAAAAAAAAAAADgWIZhBAAAAAAAAAAAAAAAAAAAAAAAAAAAAAAAAAAAA/hw4p0EAAAAI9Y6mQQAAAJAJ8qBB",
          "dtype": "f8"
         },
         "yaxis": "y"
        },
        {
         "hovertemplate": "variable=Hawaii<br>index=%{x}<br>value=%{y}<extra></extra>",
         "legendgroup": "Hawaii",
         "line": {
          "color": "#EF553B",
          "dash": "solid"
         },
         "marker": {
          "symbol": "circle"
         },
         "mode": "lines",
         "name": "Hawaii",
         "orientation": "v",
         "showlegend": true,
         "type": "scatter",
         "x": [
          "1992-01-01T00:00:00.000000000",
          "1997-01-01T00:00:00.000000000",
          "2002-01-01T00:00:00.000000000",
          "2003-01-01T00:00:00.000000000",
          "2004-01-01T00:00:00.000000000",
          "2005-01-01T00:00:00.000000000",
          "2006-01-01T00:00:00.000000000",
          "2007-01-01T00:00:00.000000000",
          "2008-01-01T00:00:00.000000000",
          "2009-01-01T00:00:00.000000000",
          "2010-01-01T00:00:00.000000000",
          "2011-01-01T00:00:00.000000000",
          "2012-01-01T00:00:00.000000000",
          "2013-01-01T00:00:00.000000000",
          "2014-01-01T00:00:00.000000000",
          "2015-01-01T00:00:00.000000000",
          "2016-01-01T00:00:00.000000000",
          "2017-01-01T00:00:00.000000000"
         ],
         "xaxis": "x",
         "y": {
          "bdata": "AAAAAAAAAAAAAAAAwOfSQAAAAADI2gVBAAAAAAAAAAAAAAAAAAAAAAAAAACAge5AAAAAAAAAAAAAAAAAqEgMQQAAAABglvxAAAAAAO5rOkEAAAAAAAAAAAAAAAAoLhpBAAAAALAGCkEAAAAAAAAAAAAAAABwV/lAAAAAAAAAAAAAAAAAACHuQAAAAAAAAAAA",
          "dtype": "f8"
         },
         "yaxis": "y"
        },
        {
         "hovertemplate": "variable=Delaware<br>index=%{x}<br>value=%{y}<extra></extra>",
         "legendgroup": "Delaware",
         "line": {
          "color": "#00cc96",
          "dash": "solid"
         },
         "marker": {
          "symbol": "circle"
         },
         "mode": "lines",
         "name": "Delaware",
         "orientation": "v",
         "showlegend": true,
         "type": "scatter",
         "x": [
          "1992-01-01T00:00:00.000000000",
          "1997-01-01T00:00:00.000000000",
          "2002-01-01T00:00:00.000000000",
          "2003-01-01T00:00:00.000000000",
          "2004-01-01T00:00:00.000000000",
          "2005-01-01T00:00:00.000000000",
          "2006-01-01T00:00:00.000000000",
          "2007-01-01T00:00:00.000000000",
          "2008-01-01T00:00:00.000000000",
          "2009-01-01T00:00:00.000000000",
          "2010-01-01T00:00:00.000000000",
          "2011-01-01T00:00:00.000000000",
          "2012-01-01T00:00:00.000000000",
          "2013-01-01T00:00:00.000000000",
          "2014-01-01T00:00:00.000000000",
          "2015-01-01T00:00:00.000000000",
          "2016-01-01T00:00:00.000000000",
          "2017-01-01T00:00:00.000000000"
         ],
         "xaxis": "x",
         "y": {
          "bdata": "AAAAgLMDWkEAAABYu1OCQQAAAAgXFoJBAAAAwFI1c0EAAACg2/N2QQAAACBQYntBAAAAYFexgEEAAABIdlOBQQAAAND6dIVBAAAA6KeqgUEAAAD8G62QQQAAADBIMJhBAAAAsALWkUEAAADYtCeUQQAAAATKPpRBAAAA0Iq4k0EAAAB4y5yKQQAAAMxDuZJB",
          "dtype": "f8"
         },
         "yaxis": "y"
        },
        {
         "hovertemplate": "variable=New Hampshire<br>index=%{x}<br>value=%{y}<extra></extra>",
         "legendgroup": "New Hampshire",
         "line": {
          "color": "#ab63fa",
          "dash": "solid"
         },
         "marker": {
          "symbol": "circle"
         },
         "mode": "lines",
         "name": "New Hampshire",
         "orientation": "v",
         "showlegend": true,
         "type": "scatter",
         "x": [
          "1992-01-01T00:00:00.000000000",
          "1997-01-01T00:00:00.000000000",
          "2002-01-01T00:00:00.000000000",
          "2003-01-01T00:00:00.000000000",
          "2004-01-01T00:00:00.000000000",
          "2005-01-01T00:00:00.000000000",
          "2006-01-01T00:00:00.000000000",
          "2007-01-01T00:00:00.000000000",
          "2008-01-01T00:00:00.000000000",
          "2009-01-01T00:00:00.000000000",
          "2010-01-01T00:00:00.000000000",
          "2011-01-01T00:00:00.000000000",
          "2012-01-01T00:00:00.000000000",
          "2013-01-01T00:00:00.000000000",
          "2014-01-01T00:00:00.000000000",
          "2015-01-01T00:00:00.000000000",
          "2016-01-01T00:00:00.000000000",
          "2017-01-01T00:00:00.000000000"
         ],
         "xaxis": "x",
         "y": {
          "bdata": "AAAAAGR+UEEAAADQY7RwQQAAAHAMgHlBAAAAID6DbUEAAABAGGJvQQAAAEAbJXlBAAAACEW8g0EAAAAIbBqAQQAAABCyUolBAAAAMELVgUEAAACwC6+LQQAAAERRRpFBAAAAYCcqiEEAAAAwX7WRQQAAALivd4pBAAAASLiihEEAAABMRO+jQQAAAMDzznxB",
          "dtype": "f8"
         },
         "yaxis": "y"
        },
        {
         "hovertemplate": "variable=Puerto Rico<br>index=%{x}<br>value=%{y}<extra></extra>",
         "legendgroup": "Puerto Rico",
         "line": {
          "color": "#FFA15A",
          "dash": "solid"
         },
         "marker": {
          "symbol": "circle"
         },
         "mode": "lines",
         "name": "Puerto Rico",
         "orientation": "v",
         "showlegend": true,
         "type": "scatter",
         "x": [
          "1992-01-01T00:00:00.000000000",
          "1997-01-01T00:00:00.000000000",
          "2002-01-01T00:00:00.000000000",
          "2003-01-01T00:00:00.000000000",
          "2004-01-01T00:00:00.000000000",
          "2005-01-01T00:00:00.000000000",
          "2006-01-01T00:00:00.000000000",
          "2007-01-01T00:00:00.000000000",
          "2008-01-01T00:00:00.000000000",
          "2009-01-01T00:00:00.000000000",
          "2010-01-01T00:00:00.000000000",
          "2011-01-01T00:00:00.000000000",
          "2012-01-01T00:00:00.000000000",
          "2013-01-01T00:00:00.000000000",
          "2014-01-01T00:00:00.000000000",
          "2015-01-01T00:00:00.000000000",
          "2016-01-01T00:00:00.000000000",
          "2017-01-01T00:00:00.000000000"
         ],
         "xaxis": "x",
         "y": {
          "bdata": "AAAA3EBxkEEAAACIb0efQQAAANTjuZdBAAAANHYelkEAAABEa9+WQQAAAHSPR5VBAAAA2JdZmUEAAADQEYucQQAAAOTfa6JBAAAAHnVLoEEAAADSeTqqQQAAAHYvfKJBAAAAinSop0EAAADu69ytQQAAAB8RvbBBAAAAPBlQpkEAAAD+EY6mQQAAAAh8vKBB",
          "dtype": "f8"
         },
         "yaxis": "y"
        },
        {
         "hovertemplate": "variable=New Mexico<br>index=%{x}<br>value=%{y}<extra></extra>",
         "legendgroup": "New Mexico",
         "line": {
          "color": "#19d3f3",
          "dash": "solid"
         },
         "marker": {
          "symbol": "circle"
         },
         "mode": "lines",
         "name": "New Mexico",
         "orientation": "v",
         "showlegend": true,
         "type": "scatter",
         "x": [
          "1992-01-01T00:00:00.000000000",
          "1997-01-01T00:00:00.000000000",
          "2002-01-01T00:00:00.000000000",
          "2003-01-01T00:00:00.000000000",
          "2004-01-01T00:00:00.000000000",
          "2005-01-01T00:00:00.000000000",
          "2006-01-01T00:00:00.000000000",
          "2007-01-01T00:00:00.000000000",
          "2008-01-01T00:00:00.000000000",
          "2009-01-01T00:00:00.000000000",
          "2010-01-01T00:00:00.000000000",
          "2011-01-01T00:00:00.000000000",
          "2012-01-01T00:00:00.000000000",
          "2013-01-01T00:00:00.000000000",
          "2014-01-01T00:00:00.000000000",
          "2015-01-01T00:00:00.000000000",
          "2016-01-01T00:00:00.000000000",
          "2017-01-01T00:00:00.000000000"
         ],
         "xaxis": "x",
         "y": {
          "bdata": "AAAAAAAAAAAAAAAA5AEnQQAAAAC+jENBAAAAgL0sQUEAAAAAMRs/QQAAAAAYnmVBAAAAgJ/nV0EAAAAA5jFXQQAAAAC5NWJBAAAAwHczXkEAAABAovJeQQAAAKCJCWJBAAAA6GJ6gUEAAADAhYSDQQAAANBNkX9BAAAA4HLbcUEAAACAXdVoQQAAAACzDWpB",
          "dtype": "f8"
         },
         "yaxis": "y"
        },
        {
         "hovertemplate": "variable=Rhode Island<br>index=%{x}<br>value=%{y}<extra></extra>",
         "legendgroup": "Rhode Island",
         "line": {
          "color": "#FF6692",
          "dash": "solid"
         },
         "marker": {
          "symbol": "circle"
         },
         "mode": "lines",
         "name": "Rhode Island",
         "orientation": "v",
         "showlegend": true,
         "type": "scatter",
         "x": [
          "1992-01-01T00:00:00.000000000",
          "1997-01-01T00:00:00.000000000",
          "2002-01-01T00:00:00.000000000",
          "2003-01-01T00:00:00.000000000",
          "2004-01-01T00:00:00.000000000",
          "2005-01-01T00:00:00.000000000",
          "2006-01-01T00:00:00.000000000",
          "2007-01-01T00:00:00.000000000",
          "2008-01-01T00:00:00.000000000",
          "2009-01-01T00:00:00.000000000",
          "2010-01-01T00:00:00.000000000",
          "2011-01-01T00:00:00.000000000",
          "2012-01-01T00:00:00.000000000",
          "2013-01-01T00:00:00.000000000",
          "2014-01-01T00:00:00.000000000",
          "2015-01-01T00:00:00.000000000",
          "2016-01-01T00:00:00.000000000",
          "2017-01-01T00:00:00.000000000"
         ],
         "xaxis": "x",
         "y": {
          "bdata": "AAAAALHWM0EAAAAQBeR7QQAAAMBDT2NBAAAAQHnDX0EAAABghllgQQAAAEAsqF1BAAAA4CcDYUEAAAAgHM1rQQAAAEDok2VBAAAAwGmqYUEAAABAjZxwQQAAAGBCEGxBAAAAAOgzaUEAAAAgFxhpQQAAAMBLzGVBAAAAwFeqXEEAAAAgGfR1QQAAAMD1/15B",
          "dtype": "f8"
         },
         "yaxis": "y"
        },
        {
         "hovertemplate": "variable=District of Columbia<br>index=%{x}<br>value=%{y}<extra></extra>",
         "legendgroup": "District of Columbia",
         "line": {
          "color": "#B6E880",
          "dash": "solid"
         },
         "marker": {
          "symbol": "circle"
         },
         "mode": "lines",
         "name": "District of Columbia",
         "orientation": "v",
         "showlegend": true,
         "type": "scatter",
         "x": [
          "1992-01-01T00:00:00.000000000",
          "1997-01-01T00:00:00.000000000",
          "2002-01-01T00:00:00.000000000",
          "2003-01-01T00:00:00.000000000",
          "2004-01-01T00:00:00.000000000",
          "2005-01-01T00:00:00.000000000",
          "2006-01-01T00:00:00.000000000",
          "2007-01-01T00:00:00.000000000",
          "2008-01-01T00:00:00.000000000",
          "2009-01-01T00:00:00.000000000",
          "2010-01-01T00:00:00.000000000",
          "2011-01-01T00:00:00.000000000",
          "2012-01-01T00:00:00.000000000",
          "2013-01-01T00:00:00.000000000",
          "2014-01-01T00:00:00.000000000",
          "2015-01-01T00:00:00.000000000",
          "2016-01-01T00:00:00.000000000",
          "2017-01-01T00:00:00.000000000"
         ],
         "xaxis": "x",
         "y": {
          "bdata": "AAAAAHbkJ0EAAAAAtYc9QQAAAICQFUVBAAAAAE4ZQkEAAAAAsLxIQQAAAACby1BBAAAAQJ92ZEEAAACATjpUQQAAAICbXV5BAAAAoI/pd0EAAACAZapkQQAAAMCJc2RBAAAAoF5jYkEAAADAzvRoQQAAAAAAAAAAAAAAkIBOdEEAAABgOXBkQQAAAAAAAAAA",
          "dtype": "f8"
         },
         "yaxis": "y"
        },
        {
         "hovertemplate": "variable=Indiana<br>index=%{x}<br>value=%{y}<extra></extra>",
         "legendgroup": "Indiana",
         "line": {
          "color": "#FF97FF",
          "dash": "solid"
         },
         "marker": {
          "symbol": "circle"
         },
         "mode": "lines",
         "name": "Indiana",
         "orientation": "v",
         "showlegend": true,
         "type": "scatter",
         "x": [
          "1992-01-01T00:00:00.000000000",
          "1997-01-01T00:00:00.000000000",
          "2002-01-01T00:00:00.000000000",
          "2003-01-01T00:00:00.000000000",
          "2004-01-01T00:00:00.000000000",
          "2005-01-01T00:00:00.000000000",
          "2006-01-01T00:00:00.000000000",
          "2007-01-01T00:00:00.000000000",
          "2008-01-01T00:00:00.000000000",
          "2009-01-01T00:00:00.000000000",
          "2010-01-01T00:00:00.000000000",
          "2011-01-01T00:00:00.000000000",
          "2012-01-01T00:00:00.000000000",
          "2013-01-01T00:00:00.000000000",
          "2014-01-01T00:00:00.000000000",
          "2015-01-01T00:00:00.000000000",
          "2016-01-01T00:00:00.000000000",
          "2017-01-01T00:00:00.000000000"
         ],
         "xaxis": "x",
         "y": {
          "bdata": "AAAA3PudkkEAAAAIyJqmQQAAAF5kxKZBAAAAm6JcsEEAAAAatoqtQQAAAMym2qpBAAAASlXdsEEAAABaJ8u9QQAAACGRtcJBAAAAXGQMv0EAAIBNZ9HHQQAAgMXHKMlBAACAmKHhx0EAAIBeYU3OQQAAAMtG2cZBAACA0w5iwEEAAACv8pC6QQAAAJctE8JB",
          "dtype": "f8"
         },
         "yaxis": "y"
        },
        {
         "hovertemplate": "variable=Florida<br>index=%{x}<br>value=%{y}<extra></extra>",
         "legendgroup": "Florida",
         "line": {
          "color": "#FECB52",
          "dash": "solid"
         },
         "marker": {
          "symbol": "circle"
         },
         "mode": "lines",
         "name": "Florida",
         "orientation": "v",
         "showlegend": true,
         "type": "scatter",
         "x": [
          "1992-01-01T00:00:00.000000000",
          "1997-01-01T00:00:00.000000000",
          "2002-01-01T00:00:00.000000000",
          "2003-01-01T00:00:00.000000000",
          "2004-01-01T00:00:00.000000000",
          "2005-01-01T00:00:00.000000000",
          "2006-01-01T00:00:00.000000000",
          "2007-01-01T00:00:00.000000000",
          "2008-01-01T00:00:00.000000000",
          "2009-01-01T00:00:00.000000000",
          "2010-01-01T00:00:00.000000000",
          "2011-01-01T00:00:00.000000000",
          "2012-01-01T00:00:00.000000000",
          "2013-01-01T00:00:00.000000000",
          "2014-01-01T00:00:00.000000000",
          "2015-01-01T00:00:00.000000000",
          "2016-01-01T00:00:00.000000000",
          "2017-01-01T00:00:00.000000000"
         ],
         "xaxis": "x",
         "y": {
          "bdata": "AAAAi+teukEAAOBPTo7gQQAAYNUyO+NBAABgzAHH4UEAAMCeucnkQQAAAHwT4eVBAADgag8t6kEAAABZ60zqQQAAsLDZffFBAACAMWPB7kEAAICjzYjwQQAAYAx5ffJBAADg31m78EEAACArbiDyQQAAYPI84vFBAAAgF5mn6UEAAGCxlXHpQQAAAPAO7exB",
          "dtype": "f8"
         },
         "yaxis": "y"
        },
        {
         "hovertemplate": "variable=Wisconsin<br>index=%{x}<br>value=%{y}<extra></extra>",
         "legendgroup": "Wisconsin",
         "line": {
          "color": "#636efa",
          "dash": "solid"
         },
         "marker": {
          "symbol": "circle"
         },
         "mode": "lines",
         "name": "Wisconsin",
         "orientation": "v",
         "showlegend": true,
         "type": "scatter",
         "x": [
          "1992-01-01T00:00:00.000000000",
          "1997-01-01T00:00:00.000000000",
          "2002-01-01T00:00:00.000000000",
          "2003-01-01T00:00:00.000000000",
          "2004-01-01T00:00:00.000000000",
          "2005-01-01T00:00:00.000000000",
          "2006-01-01T00:00:00.000000000",
          "2007-01-01T00:00:00.000000000",
          "2008-01-01T00:00:00.000000000",
          "2009-01-01T00:00:00.000000000",
          "2010-01-01T00:00:00.000000000",
          "2011-01-01T00:00:00.000000000",
          "2012-01-01T00:00:00.000000000",
          "2013-01-01T00:00:00.000000000",
          "2014-01-01T00:00:00.000000000",
          "2015-01-01T00:00:00.000000000",
          "2016-01-01T00:00:00.000000000",
          "2017-01-01T00:00:00.000000000"
         ],
         "xaxis": "x",
         "y": {
          "bdata": "AAAAQLn7lEEAAAAIwumjQQAAABgjyZ5BAAAAHGm4l0EAAAD82VOiQQAAACKWjqxBAAAAHBg0rEEAAACjZuiyQQAAALqeqrhBAAAAow8mt0EAAIBPOXTAQQAAAM6pxsBBAAAA8ClYvUEAAAD3eCS8QQAAAB059LxBAAAAs2R5t0EAAAAc7YCrQQAAAEKQjrBB",
          "dtype": "f8"
         },
         "yaxis": "y"
        },
        {
         "hovertemplate": "variable=Texas<br>index=%{x}<br>value=%{y}<extra></extra>",
         "legendgroup": "Texas",
         "line": {
          "color": "#EF553B",
          "dash": "solid"
         },
         "marker": {
          "symbol": "circle"
         },
         "mode": "lines",
         "name": "Texas",
         "orientation": "v",
         "showlegend": true,
         "type": "scatter",
         "x": [
          "1992-01-01T00:00:00.000000000",
          "1997-01-01T00:00:00.000000000",
          "2002-01-01T00:00:00.000000000",
          "2003-01-01T00:00:00.000000000",
          "2004-01-01T00:00:00.000000000",
          "2005-01-01T00:00:00.000000000",
          "2006-01-01T00:00:00.000000000",
          "2007-01-01T00:00:00.000000000",
          "2008-01-01T00:00:00.000000000",
          "2009-01-01T00:00:00.000000000",
          "2010-01-01T00:00:00.000000000",
          "2011-01-01T00:00:00.000000000",
          "2012-01-01T00:00:00.000000000",
          "2013-01-01T00:00:00.000000000",
          "2014-01-01T00:00:00.000000000",
          "2015-01-01T00:00:00.000000000",
          "2016-01-01T00:00:00.000000000",
          "2017-01-01T00:00:00.000000000"
         ],
         "xaxis": "x",
         "y": {
          "bdata": "AAAA8bo7t0EAAADu4xLWQQAAgMcNzNtBAACAlNOa1kEAAEDHoJ7YQQAAoDxVA+BBAACg2ed35kEAAKCqYzfsQQAAMOgKbPRBAAAQDPzN8UEAAMAuKeT5QQAAoHUwGQJCAAC4CkZkAkIAAFjwhNQDQgAAkGXtngVCAAAAAAAAAAAAAAAAAAAAAAAAAAAAAAAA",
          "dtype": "f8"
         },
         "yaxis": "y"
        },
        {
         "hovertemplate": "variable=Ohio<br>index=%{x}<br>value=%{y}<extra></extra>",
         "legendgroup": "Ohio",
         "line": {
          "color": "#00cc96",
          "dash": "solid"
         },
         "marker": {
          "symbol": "circle"
         },
         "mode": "lines",
         "name": "Ohio",
         "orientation": "v",
         "showlegend": true,
         "type": "scatter",
         "x": [
          "1992-01-01T00:00:00.000000000",
          "1997-01-01T00:00:00.000000000",
          "2002-01-01T00:00:00.000000000",
          "2003-01-01T00:00:00.000000000",
          "2004-01-01T00:00:00.000000000",
          "2005-01-01T00:00:00.000000000",
          "2006-01-01T00:00:00.000000000",
          "2007-01-01T00:00:00.000000000",
          "2008-01-01T00:00:00.000000000",
          "2009-01-01T00:00:00.000000000",
          "2010-01-01T00:00:00.000000000",
          "2011-01-01T00:00:00.000000000",
          "2012-01-01T00:00:00.000000000",
          "2013-01-01T00:00:00.000000000",
          "2014-01-01T00:00:00.000000000",
          "2015-01-01T00:00:00.000000000",
          "2016-01-01T00:00:00.000000000",
          "2017-01-01T00:00:00.000000000"
         ],
         "xaxis": "x",
         "y": {
          "bdata": "AAAAnM7BkkEAAAD5CAayQQAAAChrBrJBAAAAGdpstEEAAAA7Sby8QQAAAPljxrxBAAAA7DcuvUEAAMD2nqzTQQAAwHvX1dxBAAAA8xxo0EEAAMDseJ3UQQAAgJh/fNdBAADAWrGA10EAAIA++5DWQQAAAFdDZNRBAABANgrS0kEAAMDmsOXUQQAAAGmbFtVB",
          "dtype": "f8"
         },
         "yaxis": "y"
        },
        {
         "hovertemplate": "variable=Virginia<br>index=%{x}<br>value=%{y}<extra></extra>",
         "legendgroup": "Virginia",
         "line": {
          "color": "#ab63fa",
          "dash": "solid"
         },
         "marker": {
          "symbol": "circle"
         },
         "mode": "lines",
         "name": "Virginia",
         "orientation": "v",
         "showlegend": true,
         "type": "scatter",
         "x": [
          "1992-01-01T00:00:00.000000000",
          "1997-01-01T00:00:00.000000000",
          "2002-01-01T00:00:00.000000000",
          "2003-01-01T00:00:00.000000000",
          "2004-01-01T00:00:00.000000000",
          "2005-01-01T00:00:00.000000000",
          "2006-01-01T00:00:00.000000000",
          "2007-01-01T00:00:00.000000000",
          "2008-01-01T00:00:00.000000000",
          "2009-01-01T00:00:00.000000000",
          "2010-01-01T00:00:00.000000000",
          "2011-01-01T00:00:00.000000000",
          "2012-01-01T00:00:00.000000000",
          "2013-01-01T00:00:00.000000000",
          "2014-01-01T00:00:00.000000000",
          "2015-01-01T00:00:00.000000000",
          "2016-01-01T00:00:00.000000000",
          "2017-01-01T00:00:00.000000000"
         ],
         "xaxis": "x",
         "y": {
          "bdata": "AAAAimyHsUEAAIAz3pbCQQAAAAzUVqdBAAAAMgKupkEAAAA0tXSnQQAAAPggWK1BAAAAzFdqt0EAAAAmFMW+QQAAgDnZ9sFBAAAA4jaNu0EAAIDHvJzCQQAAgNaoMshBAACANz0hwkEAAACcLg23QQAAAGetErlBAAAAk27atEEAAADpkKWwQQAAAHDq/LBB",
          "dtype": "f8"
         },
         "yaxis": "y"
        },
        {
         "hovertemplate": "variable=Mississippi<br>index=%{x}<br>value=%{y}<extra></extra>",
         "legendgroup": "Mississippi",
         "line": {
          "color": "#FFA15A",
          "dash": "solid"
         },
         "marker": {
          "symbol": "circle"
         },
         "mode": "lines",
         "name": "Mississippi",
         "orientation": "v",
         "showlegend": true,
         "type": "scatter",
         "x": [
          "1992-01-01T00:00:00.000000000",
          "1997-01-01T00:00:00.000000000",
          "2002-01-01T00:00:00.000000000",
          "2003-01-01T00:00:00.000000000",
          "2004-01-01T00:00:00.000000000",
          "2005-01-01T00:00:00.000000000",
          "2006-01-01T00:00:00.000000000",
          "2007-01-01T00:00:00.000000000",
          "2008-01-01T00:00:00.000000000",
          "2009-01-01T00:00:00.000000000",
          "2010-01-01T00:00:00.000000000",
          "2011-01-01T00:00:00.000000000",
          "2012-01-01T00:00:00.000000000",
          "2013-01-01T00:00:00.000000000",
          "2014-01-01T00:00:00.000000000",
          "2015-01-01T00:00:00.000000000",
          "2016-01-01T00:00:00.000000000",
          "2017-01-01T00:00:00.000000000"
         ],
         "xaxis": "x",
         "y": {
          "bdata": "AAAAAAAAAAAAAADAwaqRQQAAAJA3dIlBAAAAeE1OiUEAAABkMq2UQQAAAEBXoo5BAAAAMI4ek0EAAACg9i+gQQAAABjVqKpBAAAAZjqyokEAAADygaKuQQAAAAwa87hBAAAAQ3O0tEEAAAB3elC8QQAAADS85blBAAAA+s4jpEEAAAC8f06lQQAAAHp09rFB",
          "dtype": "f8"
         },
         "yaxis": "y"
        },
        {
         "hovertemplate": "variable=Kentucky<br>index=%{x}<br>value=%{y}<extra></extra>",
         "legendgroup": "Kentucky",
         "line": {
          "color": "#19d3f3",
          "dash": "solid"
         },
         "marker": {
          "symbol": "circle"
         },
         "mode": "lines",
         "name": "Kentucky",
         "orientation": "v",
         "showlegend": true,
         "type": "scatter",
         "x": [
          "1992-01-01T00:00:00.000000000",
          "1997-01-01T00:00:00.000000000",
          "2002-01-01T00:00:00.000000000",
          "2003-01-01T00:00:00.000000000",
          "2004-01-01T00:00:00.000000000",
          "2005-01-01T00:00:00.000000000",
          "2006-01-01T00:00:00.000000000",
          "2007-01-01T00:00:00.000000000",
          "2008-01-01T00:00:00.000000000",
          "2009-01-01T00:00:00.000000000",
          "2010-01-01T00:00:00.000000000",
          "2011-01-01T00:00:00.000000000",
          "2012-01-01T00:00:00.000000000",
          "2013-01-01T00:00:00.000000000",
          "2014-01-01T00:00:00.000000000",
          "2015-01-01T00:00:00.000000000",
          "2016-01-01T00:00:00.000000000",
          "2017-01-01T00:00:00.000000000"
         ],
         "xaxis": "x",
         "y": {
          "bdata": "AAAAsNuXfEEAAABAIAKbQQAAAKLtDaNBAAAAhlRMokEAAAAZl82wQQAAAJixhLpBAAAAFlGFv0EAAABJYivGQQAAAKg3rr9BAACAplbpyUEAAADEw/vIQQAAAK59Ss1BAADA5xoR0UEAAEAs38DSQQAAgPxOd9VBAACAJMrf2UEAAABU8XHeQQAAYEi2I+JB",
          "dtype": "f8"
         },
         "yaxis": "y"
        },
        {
         "hovertemplate": "variable=Michigan<br>index=%{x}<br>value=%{y}<extra></extra>",
         "legendgroup": "Michigan",
         "line": {
          "color": "#FF6692",
          "dash": "solid"
         },
         "marker": {
          "symbol": "circle"
         },
         "mode": "lines",
         "name": "Michigan",
         "orientation": "v",
         "showlegend": true,
         "type": "scatter",
         "x": [
          "1992-01-01T00:00:00.000000000",
          "1997-01-01T00:00:00.000000000",
          "2002-01-01T00:00:00.000000000",
          "2003-01-01T00:00:00.000000000",
          "2004-01-01T00:00:00.000000000",
          "2005-01-01T00:00:00.000000000",
          "2006-01-01T00:00:00.000000000",
          "2007-01-01T00:00:00.000000000",
          "2008-01-01T00:00:00.000000000",
          "2009-01-01T00:00:00.000000000",
          "2010-01-01T00:00:00.000000000",
          "2011-01-01T00:00:00.000000000",
          "2012-01-01T00:00:00.000000000",
          "2013-01-01T00:00:00.000000000",
          "2014-01-01T00:00:00.000000000",
          "2015-01-01T00:00:00.000000000",
          "2016-01-01T00:00:00.000000000",
          "2017-01-01T00:00:00.000000000"
         ],
         "xaxis": "x",
         "y": {
          "bdata": "AAAApBx8lEEAAABbvcqzQQAAANpPFbBBAAAAoh2+q0EAAACxyIKyQQAAABHgMLdBAAAAEkfus0EAAADfhzq2QQAAAEb7PLlBAAAA07Rht0EAAAA3NvjAQQAAgAPH88VBAAAAkWXzw0EAAICrC9TEQQAAAC6Gu8RBAAAA0qUfyEEAAIAwDf3NQQAAAApovuBB",
          "dtype": "f8"
         },
         "yaxis": "y"
        },
        {
         "hovertemplate": "variable=Tennessee<br>index=%{x}<br>value=%{y}<extra></extra>",
         "legendgroup": "Tennessee",
         "line": {
          "color": "#B6E880",
          "dash": "solid"
         },
         "marker": {
          "symbol": "circle"
         },
         "mode": "lines",
         "name": "Tennessee",
         "orientation": "v",
         "showlegend": true,
         "type": "scatter",
         "x": [
          "1992-01-01T00:00:00.000000000",
          "1997-01-01T00:00:00.000000000",
          "2002-01-01T00:00:00.000000000",
          "2003-01-01T00:00:00.000000000",
          "2004-01-01T00:00:00.000000000",
          "2005-01-01T00:00:00.000000000",
          "2006-01-01T00:00:00.000000000",
          "2007-01-01T00:00:00.000000000",
          "2008-01-01T00:00:00.000000000",
          "2009-01-01T00:00:00.000000000",
          "2010-01-01T00:00:00.000000000",
          "2011-01-01T00:00:00.000000000",
          "2012-01-01T00:00:00.000000000",
          "2013-01-01T00:00:00.000000000",
          "2014-01-01T00:00:00.000000000",
          "2015-01-01T00:00:00.000000000",
          "2016-01-01T00:00:00.000000000",
          "2017-01-01T00:00:00.000000000"
         ],
         "xaxis": "x",
         "y": {
          "bdata": "AAAAcOWXgEEAAACWEVqnQQAAAAjm/KhBAAAAgPxXrUEAAABNvzqxQQAAAE82FbBBAAAAuDmdsEEAAAAIALSwQQAAAGMD6bhBAAAA7le5s0EAAAAcAJi9QQAAADUK18JBAAAAsBXvxEEAAICWRDnGQQAAgHKzlchBAACAvrpdxUEAAABgdLG8QQAAALwfOL5B",
          "dtype": "f8"
         },
         "yaxis": "y"
        },
        {
         "hovertemplate": "variable=California<br>index=%{x}<br>value=%{y}<extra></extra>",
         "legendgroup": "California",
         "line": {
          "color": "#FF97FF",
          "dash": "solid"
         },
         "marker": {
          "symbol": "circle"
         },
         "mode": "lines",
         "name": "California",
         "orientation": "v",
         "showlegend": true,
         "type": "scatter",
         "x": [
          "1992-01-01T00:00:00.000000000",
          "1997-01-01T00:00:00.000000000",
          "2002-01-01T00:00:00.000000000",
          "2003-01-01T00:00:00.000000000",
          "2004-01-01T00:00:00.000000000",
          "2005-01-01T00:00:00.000000000",
          "2006-01-01T00:00:00.000000000",
          "2007-01-01T00:00:00.000000000",
          "2008-01-01T00:00:00.000000000",
          "2009-01-01T00:00:00.000000000",
          "2010-01-01T00:00:00.000000000",
          "2011-01-01T00:00:00.000000000",
          "2012-01-01T00:00:00.000000000",
          "2013-01-01T00:00:00.000000000",
          "2014-01-01T00:00:00.000000000",
          "2015-01-01T00:00:00.000000000",
          "2016-01-01T00:00:00.000000000",
          "2017-01-01T00:00:00.000000000"
         ],
         "xaxis": "x",
         "y": {
          "bdata": "AAAAjnfmxUEAAIBsMcLKQQAAAK2dS8ZBAACAuqSVx0EAAIArLjrRQQAAQK3sH9RBAABAKLcp10EAAMDXeKHdQQAA4L3/v+BBAAAAgKeo3UEAAACKq4nkQQAAgAoiWeVBAAAA5tgD5kEAAMD96rHeQQAAQI3FW9xBAABACruN1kEAAAAnhgPXQQAAAG6WuNRB",
          "dtype": "f8"
         },
         "yaxis": "y"
        },
        {
         "hovertemplate": "variable=Oklahoma<br>index=%{x}<br>value=%{y}<extra></extra>",
         "legendgroup": "Oklahoma",
         "line": {
          "color": "#FECB52",
          "dash": "solid"
         },
         "marker": {
          "symbol": "circle"
         },
         "mode": "lines",
         "name": "Oklahoma",
         "orientation": "v",
         "showlegend": true,
         "type": "scatter",
         "x": [
          "1992-01-01T00:00:00.000000000",
          "1997-01-01T00:00:00.000000000",
          "2002-01-01T00:00:00.000000000",
          "2003-01-01T00:00:00.000000000",
          "2004-01-01T00:00:00.000000000",
          "2005-01-01T00:00:00.000000000",
          "2006-01-01T00:00:00.000000000",
          "2007-01-01T00:00:00.000000000",
          "2008-01-01T00:00:00.000000000",
          "2009-01-01T00:00:00.000000000",
          "2010-01-01T00:00:00.000000000",
          "2011-01-01T00:00:00.000000000",
          "2012-01-01T00:00:00.000000000",
          "2013-01-01T00:00:00.000000000",
          "2014-01-01T00:00:00.000000000",
          "2015-01-01T00:00:00.000000000",
          "2016-01-01T00:00:00.000000000",
          "2017-01-01T00:00:00.000000000"
         ],
         "xaxis": "x",
         "y": {
          "bdata": "AAAAANfIakEAAAAw50B3QQAAACjLHo1BAAAAuK9AhkEAAACwvGx9QQAAAPgem4ZBAAAAWGr+g0EAAACEW+qTQQAAALglPo9BAAAAAMbwjUEAAADcmNOUQQAAAKT93KFBAAAAENSApEEAAABKqW+pQQAAAOgOFaBBAAAAsCdclUEAAAAkNBmQQQAAAHiFfIpB",
          "dtype": "f8"
         },
         "yaxis": "y"
        },
        {
         "hovertemplate": "variable=Alabama<br>index=%{x}<br>value=%{y}<extra></extra>",
         "legendgroup": "Alabama",
         "line": {
          "color": "#636efa",
          "dash": "solid"
         },
         "marker": {
          "symbol": "circle"
         },
         "mode": "lines",
         "name": "Alabama",
         "orientation": "v",
         "showlegend": true,
         "type": "scatter",
         "x": [
          "1992-01-01T00:00:00.000000000",
          "1997-01-01T00:00:00.000000000",
          "2002-01-01T00:00:00.000000000",
          "2003-01-01T00:00:00.000000000",
          "2004-01-01T00:00:00.000000000",
          "2005-01-01T00:00:00.000000000",
          "2006-01-01T00:00:00.000000000",
          "2007-01-01T00:00:00.000000000",
          "2008-01-01T00:00:00.000000000",
          "2009-01-01T00:00:00.000000000",
          "2010-01-01T00:00:00.000000000",
          "2011-01-01T00:00:00.000000000",
          "2012-01-01T00:00:00.000000000",
          "2013-01-01T00:00:00.000000000",
          "2014-01-01T00:00:00.000000000",
          "2015-01-01T00:00:00.000000000",
          "2016-01-01T00:00:00.000000000",
          "2017-01-01T00:00:00.000000000"
         ],
         "xaxis": "x",
         "y": {
          "bdata": "AAAA8MbgeUEAAAAszZCjQQAAAPxqpKBBAAAALOUfn0EAAADUwR2iQQAAAIbBNqhBAAAAoHC6sUEAAADZWj+7QQAAAOi8cr1BAAAAPI6SuEEAAIB4l4TDQQAAAEFSZsNBAACA4rnIwkEAAADohI/CQQAAALweGLxBAAAAWau+s0EAAAACOTmsQQAAAHlEYLpB",
          "dtype": "f8"
         },
         "yaxis": "y"
        },
        {
         "hovertemplate": "variable=Illinois<br>index=%{x}<br>value=%{y}<extra></extra>",
         "legendgroup": "Illinois",
         "line": {
          "color": "#EF553B",
          "dash": "solid"
         },
         "marker": {
          "symbol": "circle"
         },
         "mode": "lines",
         "name": "Illinois",
         "orientation": "v",
         "showlegend": true,
         "type": "scatter",
         "x": [
          "1992-01-01T00:00:00.000000000",
          "1997-01-01T00:00:00.000000000",
          "2002-01-01T00:00:00.000000000",
          "2003-01-01T00:00:00.000000000",
          "2004-01-01T00:00:00.000000000",
          "2005-01-01T00:00:00.000000000",
          "2006-01-01T00:00:00.000000000",
          "2007-01-01T00:00:00.000000000",
          "2008-01-01T00:00:00.000000000",
          "2009-01-01T00:00:00.000000000",
          "2010-01-01T00:00:00.000000000",
          "2011-01-01T00:00:00.000000000",
          "2012-01-01T00:00:00.000000000",
          "2013-01-01T00:00:00.000000000",
          "2014-01-01T00:00:00.000000000",
          "2015-01-01T00:00:00.000000000",
          "2016-01-01T00:00:00.000000000",
          "2017-01-01T00:00:00.000000000"
         ],
         "xaxis": "x",
         "y": {
          "bdata": "AAAA+CP3m0EAAADHBC7CQQAAgGhjwMVBAACA4dM4xEEAAIDOv73HQQAAgMu5P9BBAABADIn00kEAAMA7Cf/TQQAAwHwYyttBAACAhcM60kEAAEBvYZLdQQAAgGgoROJBAAAgnO/w4EEAAOAgGQzgQQAAAMxWb95BAABAhkgK10EAAEAK8AjTQQAAwJjqlddB",
          "dtype": "f8"
         },
         "yaxis": "y"
        },
        {
         "hovertemplate": "variable=Pennsylvania<br>index=%{x}<br>value=%{y}<extra></extra>",
         "legendgroup": "Pennsylvania",
         "line": {
          "color": "#00cc96",
          "dash": "solid"
         },
         "marker": {
          "symbol": "circle"
         },
         "mode": "lines",
         "name": "Pennsylvania",
         "orientation": "v",
         "showlegend": true,
         "type": "scatter",
         "x": [
          "1992-01-01T00:00:00.000000000",
          "1997-01-01T00:00:00.000000000",
          "2002-01-01T00:00:00.000000000",
          "2003-01-01T00:00:00.000000000",
          "2004-01-01T00:00:00.000000000",
          "2005-01-01T00:00:00.000000000",
          "2006-01-01T00:00:00.000000000",
          "2007-01-01T00:00:00.000000000",
          "2008-01-01T00:00:00.000000000",
          "2009-01-01T00:00:00.000000000",
          "2010-01-01T00:00:00.000000000",
          "2011-01-01T00:00:00.000000000",
          "2012-01-01T00:00:00.000000000",
          "2013-01-01T00:00:00.000000000",
          "2014-01-01T00:00:00.000000000",
          "2015-01-01T00:00:00.000000000",
          "2016-01-01T00:00:00.000000000",
          "2017-01-01T00:00:00.000000000"
         ],
         "xaxis": "x",
         "y": {
          "bdata": "AAAAjhNQrUEAAAArTT6xQQAAAFSl1KNBAAAAZO1/pkEAAACcCOSuQQAAAI9OebpBAAAAbglstkEAAAAuOBfBQQAAQGN1VtBBAAAAtzANvkEAAMCn6Y3SQQAAgG76ztJBAACAf0O10EEAAICN+XLTQQAAAEyI4M9BAACAesoRykEAAIBFGqXJQQAAgAzNqNBB",
          "dtype": "f8"
         },
         "yaxis": "y"
        },
        {
         "hovertemplate": "variable=Utah<br>index=%{x}<br>value=%{y}<extra></extra>",
         "legendgroup": "Utah",
         "line": {
          "color": "#ab63fa",
          "dash": "solid"
         },
         "marker": {
          "symbol": "circle"
         },
         "mode": "lines",
         "name": "Utah",
         "orientation": "v",
         "showlegend": true,
         "type": "scatter",
         "x": [
          "1992-01-01T00:00:00.000000000",
          "1997-01-01T00:00:00.000000000",
          "2002-01-01T00:00:00.000000000",
          "2003-01-01T00:00:00.000000000",
          "2004-01-01T00:00:00.000000000",
          "2005-01-01T00:00:00.000000000",
          "2006-01-01T00:00:00.000000000",
          "2007-01-01T00:00:00.000000000",
          "2008-01-01T00:00:00.000000000",
          "2009-01-01T00:00:00.000000000",
          "2010-01-01T00:00:00.000000000",
          "2011-01-01T00:00:00.000000000",
          "2012-01-01T00:00:00.000000000",
          "2013-01-01T00:00:00.000000000",
          "2014-01-01T00:00:00.000000000",
          "2015-01-01T00:00:00.000000000",
          "2016-01-01T00:00:00.000000000",
          "2017-01-01T00:00:00.000000000"
         ],
         "xaxis": "x",
         "y": {
          "bdata": "AAAAAO3cOUEAAAAgPcppQQAAAKA2yWVBAAAAMHPldEEAAAAQjcGCQQAAACD2wXxBAAAAmKfrgkEAAAAcZKaWQQAAAITl0JdBAAAATD2cl0EAAACQ1FSMQQAAAAxGtZRBAAAAhDDRlEEAAABQMe6aQQAAAOy8GJtBAAAA+Py3lUEAAAAY2y+XQQAAAGQcqKJB",
          "dtype": "f8"
         },
         "yaxis": "y"
        },
        {
         "hovertemplate": "variable=Iowa<br>index=%{x}<br>value=%{y}<extra></extra>",
         "legendgroup": "Iowa",
         "line": {
          "color": "#FFA15A",
          "dash": "solid"
         },
         "marker": {
          "symbol": "circle"
         },
         "mode": "lines",
         "name": "Iowa",
         "orientation": "v",
         "showlegend": true,
         "type": "scatter",
         "x": [
          "1992-01-01T00:00:00.000000000",
          "1997-01-01T00:00:00.000000000",
          "2002-01-01T00:00:00.000000000",
          "2003-01-01T00:00:00.000000000",
          "2004-01-01T00:00:00.000000000",
          "2005-01-01T00:00:00.000000000",
          "2006-01-01T00:00:00.000000000",
          "2007-01-01T00:00:00.000000000",
          "2008-01-01T00:00:00.000000000",
          "2009-01-01T00:00:00.000000000",
          "2010-01-01T00:00:00.000000000",
          "2011-01-01T00:00:00.000000000",
          "2012-01-01T00:00:00.000000000",
          "2013-01-01T00:00:00.000000000",
          "2014-01-01T00:00:00.000000000",
          "2015-01-01T00:00:00.000000000",
          "2016-01-01T00:00:00.000000000",
          "2017-01-01T00:00:00.000000000"
         ],
         "xaxis": "x",
         "y": {
          "bdata": "AAAAwJjAZ0EAAAC0liqUQQAAAMCeNopBAAAAwI0ilUEAAABItwmgQQAAANzjppZBAAAAJD2wlUEAAABiIISpQQAAAKS8ebRBAAAA+vxvokEAAADC/ny0QQAAAOTcr75BAAAAbO59wkEAAADBeaXBQQAAAEKGF71BAAAAEGRMrUEAAAC6w0StQQAAAPDLT69B",
          "dtype": "f8"
         },
         "yaxis": "y"
        },
        {
         "hovertemplate": "variable=Alaska<br>index=%{x}<br>value=%{y}<extra></extra>",
         "legendgroup": "Alaska",
         "line": {
          "color": "#19d3f3",
          "dash": "solid"
         },
         "marker": {
          "symbol": "circle"
         },
         "mode": "lines",
         "name": "Alaska",
         "orientation": "v",
         "showlegend": true,
         "type": "scatter",
         "x": [
          "1992-01-01T00:00:00.000000000",
          "1997-01-01T00:00:00.000000000",
          "2002-01-01T00:00:00.000000000",
          "2003-01-01T00:00:00.000000000",
          "2004-01-01T00:00:00.000000000",
          "2005-01-01T00:00:00.000000000",
          "2006-01-01T00:00:00.000000000",
          "2007-01-01T00:00:00.000000000",
          "2008-01-01T00:00:00.000000000",
          "2009-01-01T00:00:00.000000000",
          "2010-01-01T00:00:00.000000000",
          "2011-01-01T00:00:00.000000000",
          "2012-01-01T00:00:00.000000000",
          "2013-01-01T00:00:00.000000000",
          "2014-01-01T00:00:00.000000000",
          "2015-01-01T00:00:00.000000000",
          "2016-01-01T00:00:00.000000000",
          "2017-01-01T00:00:00.000000000"
         ],
         "xaxis": "x",
         "y": {
          "bdata": "AAAAAIgwC0EAAADAjiBUQQAAAAAw1hFBAAAAANh4I0EAAAAAwIvmQAAAAACAh/RAAAAAAAAAAAAAAAAAAAAAAAAAAAAAAAAAAAAAAAAAAAAAAAAAkNgpQQAAAAD6ajRBAAAAAAAAAAAAAAAAES0yQQAAAIBAaUdBAAAAADDpGUEAAAAAbHtBQQAAAIBIqkRB",
          "dtype": "f8"
         },
         "yaxis": "y"
        },
        {
         "hovertemplate": "variable=Oregon<br>index=%{x}<br>value=%{y}<extra></extra>",
         "legendgroup": "Oregon",
         "line": {
          "color": "#FF6692",
          "dash": "solid"
         },
         "marker": {
          "symbol": "circle"
         },
         "mode": "lines",
         "name": "Oregon",
         "orientation": "v",
         "showlegend": true,
         "type": "scatter",
         "x": [
          "1992-01-01T00:00:00.000000000",
          "1997-01-01T00:00:00.000000000",
          "2002-01-01T00:00:00.000000000",
          "2003-01-01T00:00:00.000000000",
          "2004-01-01T00:00:00.000000000",
          "2005-01-01T00:00:00.000000000",
          "2006-01-01T00:00:00.000000000",
          "2007-01-01T00:00:00.000000000",
          "2008-01-01T00:00:00.000000000",
          "2009-01-01T00:00:00.000000000",
          "2010-01-01T00:00:00.000000000",
          "2011-01-01T00:00:00.000000000",
          "2012-01-01T00:00:00.000000000",
          "2013-01-01T00:00:00.000000000",
          "2014-01-01T00:00:00.000000000",
          "2015-01-01T00:00:00.000000000",
          "2016-01-01T00:00:00.000000000",
          "2017-01-01T00:00:00.000000000"
         ],
         "xaxis": "x",
         "y": {
          "bdata": "AAAA4EkUbUEAAAAYUAyAQQAAACBqp3VBAAAAgEXDgEEAAACAWjp/QQAAAMA1HIJBAAAAGBlYjUEAAAB280CmQQAAAN1GlLBBAAAA+FbKm0EAAABS83SyQQAAAPtibLpBAAAATfJMuEEAAACAXrW0QQAAANMi5LJBAAAAAoKcr0EAAABwQdefQQAAAAlvs7BB",
          "dtype": "f8"
         },
         "yaxis": "y"
        },
        {
         "hovertemplate": "variable=Arizona<br>index=%{x}<br>value=%{y}<extra></extra>",
         "legendgroup": "Arizona",
         "line": {
          "color": "#B6E880",
          "dash": "solid"
         },
         "marker": {
          "symbol": "circle"
         },
         "mode": "lines",
         "name": "Arizona",
         "orientation": "v",
         "showlegend": true,
         "type": "scatter",
         "x": [
          "1992-01-01T00:00:00.000000000",
          "1997-01-01T00:00:00.000000000",
          "2002-01-01T00:00:00.000000000",
          "2003-01-01T00:00:00.000000000",
          "2004-01-01T00:00:00.000000000",
          "2005-01-01T00:00:00.000000000",
          "2006-01-01T00:00:00.000000000",
          "2007-01-01T00:00:00.000000000",
          "2008-01-01T00:00:00.000000000",
          "2009-01-01T00:00:00.000000000",
          "2010-01-01T00:00:00.000000000",
          "2011-01-01T00:00:00.000000000",
          "2012-01-01T00:00:00.000000000",
          "2013-01-01T00:00:00.000000000",
          "2014-01-01T00:00:00.000000000",
          "2015-01-01T00:00:00.000000000",
          "2016-01-01T00:00:00.000000000",
          "2017-01-01T00:00:00.000000000"
         ],
         "xaxis": "x",
         "y": {
          "bdata": "AAAAAKyGZEEAAABoYKKOQQAAAN6SPKBBAAAACOiem0EAAADYgtGhQQAAANDp8ZhBAAAAKjmloEEAAACt60ewQQAAAJOYZ7VBAAAANoLZsUEAAAA0bkazQQAAAKK1XrRBAAAAXUjbtUEAAAB0KHK1QQAAAAsFbbRBAAAA+ZVPuUEAAAD1aC65QQAAAPH6dbZB",
          "dtype": "f8"
         },
         "yaxis": "y"
        },
        {
         "hovertemplate": "variable=Louisiana<br>index=%{x}<br>value=%{y}<extra></extra>",
         "legendgroup": "Louisiana",
         "line": {
          "color": "#FF97FF",
          "dash": "solid"
         },
         "marker": {
          "symbol": "circle"
         },
         "mode": "lines",
         "name": "Louisiana",
         "orientation": "v",
         "showlegend": true,
         "type": "scatter",
         "x": [
          "1992-01-01T00:00:00.000000000",
          "1997-01-01T00:00:00.000000000",
          "2002-01-01T00:00:00.000000000",
          "2003-01-01T00:00:00.000000000",
          "2004-01-01T00:00:00.000000000",
          "2005-01-01T00:00:00.000000000",
          "2006-01-01T00:00:00.000000000",
          "2007-01-01T00:00:00.000000000",
          "2008-01-01T00:00:00.000000000",
          "2009-01-01T00:00:00.000000000",
          "2010-01-01T00:00:00.000000000",
          "2011-01-01T00:00:00.000000000",
          "2012-01-01T00:00:00.000000000",
          "2013-01-01T00:00:00.000000000",
          "2014-01-01T00:00:00.000000000",
          "2015-01-01T00:00:00.000000000",
          "2016-01-01T00:00:00.000000000",
          "2017-01-01T00:00:00.000000000"
         ],
         "xaxis": "x",
         "y": {
          "bdata": "AAAAWnHNo0EAAADGLX22QQAAAJQoTLFBAAAA7A1tskEAAABD27u2QQAAAO92fLNBAAAArc/buEEAAIAd3vjAQQAAgCCwss9BAACAehOQxEEAAAD5h3PUQQAAAADp29hBAADgil654EEAAAAV4irjQQAAABg34t9BAADAllLQ00EAAMDmXR3ZQQAAYBNzsuNB",
          "dtype": "f8"
         },
         "yaxis": "y"
        },
        {
         "hovertemplate": "variable=Maryland<br>index=%{x}<br>value=%{y}<extra></extra>",
         "legendgroup": "Maryland",
         "line": {
          "color": "#FECB52",
          "dash": "solid"
         },
         "marker": {
          "symbol": "circle"
         },
         "mode": "lines",
         "name": "Maryland",
         "orientation": "v",
         "showlegend": true,
         "type": "scatter",
         "x": [
          "1992-01-01T00:00:00.000000000",
          "1997-01-01T00:00:00.000000000",
          "2002-01-01T00:00:00.000000000",
          "2003-01-01T00:00:00.000000000",
          "2004-01-01T00:00:00.000000000",
          "2005-01-01T00:00:00.000000000",
          "2006-01-01T00:00:00.000000000",
          "2007-01-01T00:00:00.000000000",
          "2008-01-01T00:00:00.000000000",
          "2009-01-01T00:00:00.000000000",
          "2010-01-01T00:00:00.000000000",
          "2011-01-01T00:00:00.000000000",
          "2012-01-01T00:00:00.000000000",
          "2013-01-01T00:00:00.000000000",
          "2014-01-01T00:00:00.000000000",
          "2015-01-01T00:00:00.000000000",
          "2016-01-01T00:00:00.000000000",
          "2017-01-01T00:00:00.000000000"
         ],
         "xaxis": "x",
         "y": {
          "bdata": "AAAAyBlQg0EAAACiKvulQQAAAAhnw5RBAAAAFIsekUEAAADgD3SeQQAAAPgfSaNBAAAAXmB0oEEAAAAE2YWkQQAAANTc8ahBAAAAFAQ3oEEAAAAyv/6kQQAAAPx00K5BAAAA806VsUEAAAC+7k62QQAAAEEOh7FBAAAAyAJLpkEAAABowPmgQQAAAGatLaRB",
          "dtype": "f8"
         },
         "yaxis": "y"
        },
        {
         "hovertemplate": "variable=Nebraska<br>index=%{x}<br>value=%{y}<extra></extra>",
         "legendgroup": "Nebraska",
         "line": {
          "color": "#636efa",
          "dash": "solid"
         },
         "marker": {
          "symbol": "circle"
         },
         "mode": "lines",
         "name": "Nebraska",
         "orientation": "v",
         "showlegend": true,
         "type": "scatter",
         "x": [
          "1992-01-01T00:00:00.000000000",
          "1997-01-01T00:00:00.000000000",
          "2002-01-01T00:00:00.000000000",
          "2003-01-01T00:00:00.000000000",
          "2004-01-01T00:00:00.000000000",
          "2005-01-01T00:00:00.000000000",
          "2006-01-01T00:00:00.000000000",
          "2007-01-01T00:00:00.000000000",
          "2008-01-01T00:00:00.000000000",
          "2009-01-01T00:00:00.000000000",
          "2010-01-01T00:00:00.000000000",
          "2011-01-01T00:00:00.000000000",
          "2012-01-01T00:00:00.000000000",
          "2013-01-01T00:00:00.000000000",
          "2014-01-01T00:00:00.000000000",
          "2015-01-01T00:00:00.000000000",
          "2016-01-01T00:00:00.000000000",
          "2017-01-01T00:00:00.000000000"
         ],
         "xaxis": "x",
         "y": {
          "bdata": "AAAAAE17O0EAAABgHrttQQAAAGCkPXFBAAAAsAv+c0EAAABwffp7QQAAABD+Wn9BAAAAoGPEeEEAAABIYkGDQQAAAFi1QIZBAAAAAA+sgUEAAAAgFMCKQQAAAACfXI1BAAAAeAIAk0EAAABcmCOeQQAAACCslKNBAAAAWLRKk0EAAAD0jd6RQQAAAOAcXZdB",
          "dtype": "f8"
         },
         "yaxis": "y"
        },
        {
         "hovertemplate": "variable=Connecticut<br>index=%{x}<br>value=%{y}<extra></extra>",
         "legendgroup": "Connecticut",
         "line": {
          "color": "#EF553B",
          "dash": "solid"
         },
         "marker": {
          "symbol": "circle"
         },
         "mode": "lines",
         "name": "Connecticut",
         "orientation": "v",
         "showlegend": true,
         "type": "scatter",
         "x": [
          "1992-01-01T00:00:00.000000000",
          "1997-01-01T00:00:00.000000000",
          "2002-01-01T00:00:00.000000000",
          "2003-01-01T00:00:00.000000000",
          "2004-01-01T00:00:00.000000000",
          "2005-01-01T00:00:00.000000000",
          "2006-01-01T00:00:00.000000000",
          "2007-01-01T00:00:00.000000000",
          "2008-01-01T00:00:00.000000000",
          "2009-01-01T00:00:00.000000000",
          "2010-01-01T00:00:00.000000000",
          "2011-01-01T00:00:00.000000000",
          "2012-01-01T00:00:00.000000000",
          "2013-01-01T00:00:00.000000000",
          "2014-01-01T00:00:00.000000000",
          "2015-01-01T00:00:00.000000000",
          "2016-01-01T00:00:00.000000000",
          "2017-01-01T00:00:00.000000000"
         ],
         "xaxis": "x",
         "y": {
          "bdata": "AAAAYEivgkEAAAA4p+mKQQAAALgO+opBAAAAgGzri0EAAABoWAeWQQAAAOwA85tBAAAAbIFPmkEAAADAa2+hQQAAAGpBcbNBAAAAJsA5rUEAAAC65tezQQAAAJP4crVBAAAA4oTVskEAAABikCOvQQAAAA2zvrFBAAAAEO7Vq0EAAAAoe6uoQQAAAOpddKNB",
          "dtype": "f8"
         },
         "yaxis": "y"
        },
        {
         "hovertemplate": "variable=Georgia<br>index=%{x}<br>value=%{y}<extra></extra>",
         "legendgroup": "Georgia",
         "line": {
          "color": "#00cc96",
          "dash": "solid"
         },
         "marker": {
          "symbol": "circle"
         },
         "mode": "lines",
         "name": "Georgia",
         "orientation": "v",
         "showlegend": true,
         "type": "scatter",
         "x": [
          "1992-01-01T00:00:00.000000000",
          "1997-01-01T00:00:00.000000000",
          "2002-01-01T00:00:00.000000000",
          "2003-01-01T00:00:00.000000000",
          "2004-01-01T00:00:00.000000000",
          "2005-01-01T00:00:00.000000000",
          "2006-01-01T00:00:00.000000000",
          "2007-01-01T00:00:00.000000000",
          "2008-01-01T00:00:00.000000000",
          "2009-01-01T00:00:00.000000000",
          "2010-01-01T00:00:00.000000000",
          "2011-01-01T00:00:00.000000000",
          "2012-01-01T00:00:00.000000000",
          "2013-01-01T00:00:00.000000000",
          "2014-01-01T00:00:00.000000000",
          "2015-01-01T00:00:00.000000000",
          "2016-01-01T00:00:00.000000000",
          "2017-01-01T00:00:00.000000000"
         ],
         "xaxis": "x",
         "y": {
          "bdata": "AAAA0Ot2nkEAAABmHKivQQAAAE4qULBBAAAAdz8WsUEAAABxIw+1QQAAAGOmRbRBAAAAwHmOuEEAAAAXn328QQAAAE+kJcdBAAAAmJSVwEEAAIBwKKHGQQAAAC77gM1BAAAADDpbzEEAAACBrXvQQQAAQNswttJBAADAW/ur0EEAAACUkrLIQQAAgK7MecdB",
          "dtype": "f8"
         },
         "yaxis": "y"
        },
        {
         "hovertemplate": "variable=North Carolina<br>index=%{x}<br>value=%{y}<extra></extra>",
         "legendgroup": "North Carolina",
         "line": {
          "color": "#ab63fa",
          "dash": "solid"
         },
         "marker": {
          "symbol": "circle"
         },
         "mode": "lines",
         "name": "North Carolina",
         "orientation": "v",
         "showlegend": true,
         "type": "scatter",
         "x": [
          "1992-01-01T00:00:00.000000000",
          "1997-01-01T00:00:00.000000000",
          "2002-01-01T00:00:00.000000000",
          "2003-01-01T00:00:00.000000000",
          "2004-01-01T00:00:00.000000000",
          "2005-01-01T00:00:00.000000000",
          "2006-01-01T00:00:00.000000000",
          "2007-01-01T00:00:00.000000000",
          "2008-01-01T00:00:00.000000000",
          "2009-01-01T00:00:00.000000000",
          "2010-01-01T00:00:00.000000000",
          "2011-01-01T00:00:00.000000000",
          "2012-01-01T00:00:00.000000000",
          "2013-01-01T00:00:00.000000000",
          "2014-01-01T00:00:00.000000000",
          "2015-01-01T00:00:00.000000000",
          "2016-01-01T00:00:00.000000000",
          "2017-01-01T00:00:00.000000000"
         ],
         "xaxis": "x",
         "y": {
          "bdata": "AAAA6EkGjkEAAADsR6ywQQAAACbTyKBBAAAAEHo9qkEAAADgVnCxQQAAALkgmLFBAAAAhE/ltEEAAAB/xRbAQQAAAGXBScFBAAAATEFCwUEAAADmpevCQQAAACElXsRBAACAE2wixkEAAID4lN/EQQAAgFpu1cJBAACAPBsgwEEAAADckD+5QQAAAH4OBrpB",
          "dtype": "f8"
         },
         "yaxis": "y"
        },
        {
         "hovertemplate": "variable=Washington<br>index=%{x}<br>value=%{y}<extra></extra>",
         "legendgroup": "Washington",
         "line": {
          "color": "#FFA15A",
          "dash": "solid"
         },
         "marker": {
          "symbol": "circle"
         },
         "mode": "lines",
         "name": "Washington",
         "orientation": "v",
         "showlegend": true,
         "type": "scatter",
         "x": [
          "1992-01-01T00:00:00.000000000",
          "1997-01-01T00:00:00.000000000",
          "2002-01-01T00:00:00.000000000",
          "2003-01-01T00:00:00.000000000",
          "2004-01-01T00:00:00.000000000",
          "2005-01-01T00:00:00.000000000",
          "2006-01-01T00:00:00.000000000",
          "2007-01-01T00:00:00.000000000",
          "2008-01-01T00:00:00.000000000",
          "2009-01-01T00:00:00.000000000",
          "2010-01-01T00:00:00.000000000",
          "2011-01-01T00:00:00.000000000",
          "2012-01-01T00:00:00.000000000",
          "2013-01-01T00:00:00.000000000",
          "2014-01-01T00:00:00.000000000",
          "2015-01-01T00:00:00.000000000",
          "2016-01-01T00:00:00.000000000",
          "2017-01-01T00:00:00.000000000"
         ],
         "xaxis": "x",
         "y": {
          "bdata": "AAAAAAAAAAAAAADZ8ke5QQAAAN2BSLxBAAAAlDk8lEEAAAAHmv+wQQAAAARcEZVBAAAAAAAAAAAAAAAAAAAAAAAAwJ1d99dBAAAAg8TdyEEAAAAdMZHCQQAAgIcgEMRBAACApFiw1EEAAAAccEHTQQAAAEp8tMNBAAAA4kOwvUEAAAAmap+uQQAAAPb8eKpB",
          "dtype": "f8"
         },
         "yaxis": "y"
        },
        {
         "hovertemplate": "variable=South Dakota<br>index=%{x}<br>value=%{y}<extra></extra>",
         "legendgroup": "South Dakota",
         "line": {
          "color": "#19d3f3",
          "dash": "solid"
         },
         "marker": {
          "symbol": "circle"
         },
         "mode": "lines",
         "name": "South Dakota",
         "orientation": "v",
         "showlegend": true,
         "type": "scatter",
         "x": [
          "1992-01-01T00:00:00.000000000",
          "1997-01-01T00:00:00.000000000",
          "2002-01-01T00:00:00.000000000",
          "2003-01-01T00:00:00.000000000",
          "2004-01-01T00:00:00.000000000",
          "2005-01-01T00:00:00.000000000",
          "2006-01-01T00:00:00.000000000",
          "2007-01-01T00:00:00.000000000",
          "2008-01-01T00:00:00.000000000",
          "2009-01-01T00:00:00.000000000",
          "2010-01-01T00:00:00.000000000",
          "2011-01-01T00:00:00.000000000",
          "2012-01-01T00:00:00.000000000",
          "2013-01-01T00:00:00.000000000",
          "2014-01-01T00:00:00.000000000",
          "2015-01-01T00:00:00.000000000",
          "2016-01-01T00:00:00.000000000",
          "2017-01-01T00:00:00.000000000"
         ],
         "xaxis": "x",
         "y": {
          "bdata": "AAAAAAAAAAAAAAAAAAAAAAAAAIDX/EJBAAAAgIh/SEEAAAAA74ZMQQAAAADw4FJBAAAAAJt9RkEAAACA9txPQQAAAMCv2FBBAAAAQCFcWEEAAADA2GRTQQAAAOAiQ2ZBAAAAcC8zckEAAACw+5h2QQAAADCOl3NBAAAAwEPAWEEAAACA5YpUQQAAAMCSTVFB",
          "dtype": "f8"
         },
         "yaxis": "y"
        },
        {
         "hovertemplate": "variable=Maine<br>index=%{x}<br>value=%{y}<extra></extra>",
         "legendgroup": "Maine",
         "line": {
          "color": "#FF6692",
          "dash": "solid"
         },
         "marker": {
          "symbol": "circle"
         },
         "mode": "lines",
         "name": "Maine",
         "orientation": "v",
         "showlegend": true,
         "type": "scatter",
         "x": [
          "1992-01-01T00:00:00.000000000",
          "1997-01-01T00:00:00.000000000",
          "2002-01-01T00:00:00.000000000",
          "2003-01-01T00:00:00.000000000",
          "2004-01-01T00:00:00.000000000",
          "2005-01-01T00:00:00.000000000",
          "2006-01-01T00:00:00.000000000",
          "2007-01-01T00:00:00.000000000",
          "2008-01-01T00:00:00.000000000",
          "2009-01-01T00:00:00.000000000",
          "2010-01-01T00:00:00.000000000",
          "2011-01-01T00:00:00.000000000",
          "2012-01-01T00:00:00.000000000",
          "2013-01-01T00:00:00.000000000",
          "2014-01-01T00:00:00.000000000",
          "2015-01-01T00:00:00.000000000",
          "2016-01-01T00:00:00.000000000",
          "2017-01-01T00:00:00.000000000"
         ],
         "xaxis": "x",
         "y": {
          "bdata": "AAAAgO0sVkEAAACAztVEQQAAAIBydWtBAAAAQLpCbUEAAAAAAAAAAAAAAEBhwGNBAAAAoFHQdEEAAADAWZ1nQQAAAGCiL3dBAAAAoBgvbEEAAAAwwtR6QQAAAMDW5nRBAAAAYEWWdkEAAABAMAR2QQAAAOC1mHxBAAAA4PtbcUEAAAAA+bhzQQAAAJAoEHBB",
          "dtype": "f8"
         },
         "yaxis": "y"
        },
        {
         "hovertemplate": "variable=Vermont<br>index=%{x}<br>value=%{y}<extra></extra>",
         "legendgroup": "Vermont",
         "line": {
          "color": "#B6E880",
          "dash": "solid"
         },
         "marker": {
          "symbol": "circle"
         },
         "mode": "lines",
         "name": "Vermont",
         "orientation": "v",
         "showlegend": true,
         "type": "scatter",
         "x": [
          "1992-01-01T00:00:00.000000000",
          "1997-01-01T00:00:00.000000000",
          "2002-01-01T00:00:00.000000000",
          "2003-01-01T00:00:00.000000000",
          "2004-01-01T00:00:00.000000000",
          "2005-01-01T00:00:00.000000000",
          "2006-01-01T00:00:00.000000000",
          "2007-01-01T00:00:00.000000000",
          "2008-01-01T00:00:00.000000000",
          "2009-01-01T00:00:00.000000000",
          "2010-01-01T00:00:00.000000000",
          "2011-01-01T00:00:00.000000000",
          "2012-01-01T00:00:00.000000000",
          "2013-01-01T00:00:00.000000000",
          "2014-01-01T00:00:00.000000000",
          "2015-01-01T00:00:00.000000000",
          "2016-01-01T00:00:00.000000000",
          "2017-01-01T00:00:00.000000000"
         ],
         "xaxis": "x",
         "y": {
          "bdata": "AAAAAAAAAAAAAACAH4REQQAAAAAnmTlBAAAAgNGbQkEAAACAlh1QQQAAAMBlgVNBAAAAgOfdWkEAAAAA1zdfQQAAAODhA2hBAAAA4IICYkEAAABAwjpbQQAAAECGhlVBAAAAwAUYUkEAAAAASApbQQAAACCwnGtBAAAAwNCHYkEAAABA4iRWQQAAAIBfGFhB",
          "dtype": "f8"
         },
         "yaxis": "y"
        },
        {
         "hovertemplate": "variable=Idaho<br>index=%{x}<br>value=%{y}<extra></extra>",
         "legendgroup": "Idaho",
         "line": {
          "color": "#FF97FF",
          "dash": "solid"
         },
         "marker": {
          "symbol": "circle"
         },
         "mode": "lines",
         "name": "Idaho",
         "orientation": "v",
         "showlegend": true,
         "type": "scatter",
         "x": [
          "1992-01-01T00:00:00.000000000",
          "1997-01-01T00:00:00.000000000",
          "2002-01-01T00:00:00.000000000",
          "2003-01-01T00:00:00.000000000",
          "2004-01-01T00:00:00.000000000",
          "2005-01-01T00:00:00.000000000",
          "2006-01-01T00:00:00.000000000",
          "2007-01-01T00:00:00.000000000",
          "2008-01-01T00:00:00.000000000",
          "2009-01-01T00:00:00.000000000",
          "2010-01-01T00:00:00.000000000",
          "2011-01-01T00:00:00.000000000",
          "2012-01-01T00:00:00.000000000",
          "2013-01-01T00:00:00.000000000",
          "2014-01-01T00:00:00.000000000",
          "2015-01-01T00:00:00.000000000",
          "2016-01-01T00:00:00.000000000",
          "2017-01-01T00:00:00.000000000"
         ],
         "xaxis": "x",
         "y": {
          "bdata": "AAAAAID/JkEAAAAAN303QQAAACA5+WVBAAAAAMulS0EAAACA6DpWQQAAAAAy9lFBAAAAAG2VVkEAAAAAFJJjQQAAAJC8kHtBAAAAQNd3eUEAAADg2fFvQQAAAABkCYNBAAAAcEyKi0EAAACQBJCPQQAAAHiV0Y1BAAAAADAijEEAAAAY0/KNQQAAANitR4dB",
          "dtype": "f8"
         },
         "yaxis": "y"
        },
        {
         "hovertemplate": "variable=Kansas<br>index=%{x}<br>value=%{y}<extra></extra>",
         "legendgroup": "Kansas",
         "line": {
          "color": "#FECB52",
          "dash": "solid"
         },
         "marker": {
          "symbol": "circle"
         },
         "mode": "lines",
         "name": "Kansas",
         "orientation": "v",
         "showlegend": true,
         "type": "scatter",
         "x": [
          "1992-01-01T00:00:00.000000000",
          "1997-01-01T00:00:00.000000000",
          "2002-01-01T00:00:00.000000000",
          "2003-01-01T00:00:00.000000000",
          "2004-01-01T00:00:00.000000000",
          "2005-01-01T00:00:00.000000000",
          "2006-01-01T00:00:00.000000000",
          "2007-01-01T00:00:00.000000000",
          "2008-01-01T00:00:00.000000000",
          "2009-01-01T00:00:00.000000000",
          "2010-01-01T00:00:00.000000000",
          "2011-01-01T00:00:00.000000000",
          "2012-01-01T00:00:00.000000000",
          "2013-01-01T00:00:00.000000000",
          "2014-01-01T00:00:00.000000000",
          "2015-01-01T00:00:00.000000000",
          "2016-01-01T00:00:00.000000000",
          "2017-01-01T00:00:00.000000000"
         ],
         "xaxis": "x",
         "y": {
          "bdata": "AAAAOOorhUEAAAAIDReTQQAAACx8/6BBAAAACLlRikEAAACIdkieQQAAAAobXKZBAAAAyBGLpUEAAABDhwi0QQAAAAuLvb1BAAAAqkDUrEEAAABs93mwQQAAAF/2VrBBAAAAPFdXrEEAAABKlPurQQAAAKoF1qdBAAAAwAxPnkEAAADYtrGcQQAAAHyGnJVB",
          "dtype": "f8"
         },
         "yaxis": "y"
        },
        {
         "hovertemplate": "variable=Nevada<br>index=%{x}<br>value=%{y}<extra></extra>",
         "legendgroup": "Nevada",
         "line": {
          "color": "#636efa",
          "dash": "solid"
         },
         "marker": {
          "symbol": "circle"
         },
         "mode": "lines",
         "name": "Nevada",
         "orientation": "v",
         "showlegend": true,
         "type": "scatter",
         "x": [
          "1992-01-01T00:00:00.000000000",
          "1997-01-01T00:00:00.000000000",
          "2002-01-01T00:00:00.000000000",
          "2003-01-01T00:00:00.000000000",
          "2004-01-01T00:00:00.000000000",
          "2005-01-01T00:00:00.000000000",
          "2006-01-01T00:00:00.000000000",
          "2007-01-01T00:00:00.000000000",
          "2008-01-01T00:00:00.000000000",
          "2009-01-01T00:00:00.000000000",
          "2010-01-01T00:00:00.000000000",
          "2011-01-01T00:00:00.000000000",
          "2012-01-01T00:00:00.000000000",
          "2013-01-01T00:00:00.000000000",
          "2014-01-01T00:00:00.000000000",
          "2015-01-01T00:00:00.000000000",
          "2016-01-01T00:00:00.000000000",
          "2017-01-01T00:00:00.000000000"
         ],
         "xaxis": "x",
         "y": {
          "bdata": "AAAAANDJLkEAAACAIvdLQQAAAADkq1VBAAAAAPjRVEEAAADADD1ZQQAAAGCldmZBAAAAYNjndUEAAACQvjp1QQAAAIDbboBBAAAA8MHAdkEAAADIadyBQQAAACCzKpFBAAAAKCYnh0EAAAD4FFyHQQAAAPynSZJBAAAAKNd3jkEAAABAtuqHQQAAAFCwvYlB",
          "dtype": "f8"
         },
         "yaxis": "y"
        },
        {
         "hovertemplate": "variable=Montana<br>index=%{x}<br>value=%{y}<extra></extra>",
         "legendgroup": "Montana",
         "line": {
          "color": "#EF553B",
          "dash": "solid"
         },
         "marker": {
          "symbol": "circle"
         },
         "mode": "lines",
         "name": "Montana",
         "orientation": "v",
         "showlegend": true,
         "type": "scatter",
         "x": [
          "1992-01-01T00:00:00.000000000",
          "1997-01-01T00:00:00.000000000",
          "2002-01-01T00:00:00.000000000",
          "2003-01-01T00:00:00.000000000",
          "2004-01-01T00:00:00.000000000",
          "2005-01-01T00:00:00.000000000",
          "2006-01-01T00:00:00.000000000",
          "2007-01-01T00:00:00.000000000",
          "2008-01-01T00:00:00.000000000",
          "2009-01-01T00:00:00.000000000",
          "2010-01-01T00:00:00.000000000",
          "2011-01-01T00:00:00.000000000",
          "2012-01-01T00:00:00.000000000",
          "2013-01-01T00:00:00.000000000",
          "2014-01-01T00:00:00.000000000",
          "2015-01-01T00:00:00.000000000",
          "2016-01-01T00:00:00.000000000",
          "2017-01-01T00:00:00.000000000"
         ],
         "xaxis": "x",
         "y": {
          "bdata": "AAAAAKDw9EAAAAAAz6AxQQAAAACgIBtBAAAAAAAAAAAAAAAAAAAAAAAAAAAli0BBAAAAAAAAAAAAAAAAAAAAAAAAAIDNAUhBAAAAAF0fSUEAAAAAQg5TQQAAAICX5lBBAAAAANMXSUEAAAAAJpVRQQAAAICqXVxBAAAAQC1/WkEAAACAVAxKQQAAAIBg8k5B",
          "dtype": "f8"
         },
         "yaxis": "y"
        },
        {
         "hovertemplate": "variable=Arkansas<br>index=%{x}<br>value=%{y}<extra></extra>",
         "legendgroup": "Arkansas",
         "line": {
          "color": "#00cc96",
          "dash": "solid"
         },
         "marker": {
          "symbol": "circle"
         },
         "mode": "lines",
         "name": "Arkansas",
         "orientation": "v",
         "showlegend": true,
         "type": "scatter",
         "x": [
          "1992-01-01T00:00:00.000000000",
          "1997-01-01T00:00:00.000000000",
          "2002-01-01T00:00:00.000000000",
          "2003-01-01T00:00:00.000000000",
          "2004-01-01T00:00:00.000000000",
          "2005-01-01T00:00:00.000000000",
          "2006-01-01T00:00:00.000000000",
          "2007-01-01T00:00:00.000000000",
          "2008-01-01T00:00:00.000000000",
          "2009-01-01T00:00:00.000000000",
          "2010-01-01T00:00:00.000000000",
          "2011-01-01T00:00:00.000000000",
          "2012-01-01T00:00:00.000000000",
          "2013-01-01T00:00:00.000000000",
          "2014-01-01T00:00:00.000000000",
          "2015-01-01T00:00:00.000000000",
          "2016-01-01T00:00:00.000000000",
          "2017-01-01T00:00:00.000000000"
         ],
         "xaxis": "x",
         "y": {
          "bdata": "AAAAAOsaVkEAAAA4BuqDQQAAAAggrJFBAAAAsCplk0EAAAAon8uQQQAAAEDjVWhBAAAATNPYkUEAAAD8TzWbQQAAAJKhrKFBAAAAos/no0EAAADM2mGdQQAAAAxpn5VBAAAApU13s0EAAACAotCnQQAAAO6DpKhBAAAAhETvnkEAAAAA+BaLQQAAABA17ppB",
          "dtype": "f8"
         },
         "yaxis": "y"
        },
        {
         "hovertemplate": "variable=Colorado<br>index=%{x}<br>value=%{y}<extra></extra>",
         "legendgroup": "Colorado",
         "line": {
          "color": "#ab63fa",
          "dash": "solid"
         },
         "marker": {
          "symbol": "circle"
         },
         "mode": "lines",
         "name": "Colorado",
         "orientation": "v",
         "showlegend": true,
         "type": "scatter",
         "x": [
          "1992-01-01T00:00:00.000000000",
          "1997-01-01T00:00:00.000000000",
          "2002-01-01T00:00:00.000000000",
          "2003-01-01T00:00:00.000000000",
          "2004-01-01T00:00:00.000000000",
          "2005-01-01T00:00:00.000000000",
          "2006-01-01T00:00:00.000000000",
          "2007-01-01T00:00:00.000000000",
          "2008-01-01T00:00:00.000000000",
          "2009-01-01T00:00:00.000000000",
          "2010-01-01T00:00:00.000000000",
          "2011-01-01T00:00:00.000000000",
          "2012-01-01T00:00:00.000000000",
          "2013-01-01T00:00:00.000000000",
          "2014-01-01T00:00:00.000000000",
          "2015-01-01T00:00:00.000000000",
          "2016-01-01T00:00:00.000000000",
          "2017-01-01T00:00:00.000000000"
         ],
         "xaxis": "x",
         "y": {
          "bdata": "AAAAwMGhW0EAAABYEqyNQQAAAHiufIlBAAAAYE8rikEAAABgkhOLQQAAAGDOVJNBAAAAjMZ+lEEAAAB8WaSYQQAAAMDRF5xBAAAA0JEVkkEAAADcpRqcQQAAALyVyphBAAAATDXfo0EAAABYqbOlQQAAAHARsaJBAAAAnGHdlkEAAADooAuYQQAAAHiQW5xB",
          "dtype": "f8"
         },
         "yaxis": "y"
        },
        {
         "hovertemplate": "variable=Missouri<br>index=%{x}<br>value=%{y}<extra></extra>",
         "legendgroup": "Missouri",
         "line": {
          "color": "#FFA15A",
          "dash": "solid"
         },
         "marker": {
          "symbol": "circle"
         },
         "mode": "lines",
         "name": "Missouri",
         "orientation": "v",
         "showlegend": true,
         "type": "scatter",
         "x": [
          "1992-01-01T00:00:00.000000000",
          "1997-01-01T00:00:00.000000000",
          "2002-01-01T00:00:00.000000000",
          "2003-01-01T00:00:00.000000000",
          "2004-01-01T00:00:00.000000000",
          "2005-01-01T00:00:00.000000000",
          "2006-01-01T00:00:00.000000000",
          "2007-01-01T00:00:00.000000000",
          "2008-01-01T00:00:00.000000000",
          "2009-01-01T00:00:00.000000000",
          "2010-01-01T00:00:00.000000000",
          "2011-01-01T00:00:00.000000000",
          "2012-01-01T00:00:00.000000000",
          "2013-01-01T00:00:00.000000000",
          "2014-01-01T00:00:00.000000000",
          "2015-01-01T00:00:00.000000000",
          "2016-01-01T00:00:00.000000000",
          "2017-01-01T00:00:00.000000000"
         ],
         "xaxis": "x",
         "y": {
          "bdata": "AAAAwJjqbEEAAAAEF/WWQQAAACCWrI1BAAAABD7imEEAAACwym6gQQAAALY3jKFBAAAAJAbinkEAAACSdT2qQQAAAOysOq5BAAAACCJJrEEAAAAmg0+zQQAAAMwzq7JBAAAAuqidsUEAAABj8gawQQAAAOJ4h7FBAAAAx8OFsUEAAABsx/SkQQAAALRkQapB",
          "dtype": "f8"
         },
         "yaxis": "y"
        },
        {
         "hovertemplate": "variable=Minnesota<br>index=%{x}<br>value=%{y}<extra></extra>",
         "legendgroup": "Minnesota",
         "line": {
          "color": "#19d3f3",
          "dash": "solid"
         },
         "marker": {
          "symbol": "circle"
         },
         "mode": "lines",
         "name": "Minnesota",
         "orientation": "v",
         "showlegend": true,
         "type": "scatter",
         "x": [
          "1992-01-01T00:00:00.000000000",
          "1997-01-01T00:00:00.000000000",
          "2002-01-01T00:00:00.000000000",
          "2003-01-01T00:00:00.000000000",
          "2004-01-01T00:00:00.000000000",
          "2005-01-01T00:00:00.000000000",
          "2006-01-01T00:00:00.000000000",
          "2007-01-01T00:00:00.000000000",
          "2008-01-01T00:00:00.000000000",
          "2009-01-01T00:00:00.000000000",
          "2010-01-01T00:00:00.000000000",
          "2011-01-01T00:00:00.000000000",
          "2012-01-01T00:00:00.000000000",
          "2013-01-01T00:00:00.000000000",
          "2014-01-01T00:00:00.000000000",
          "2015-01-01T00:00:00.000000000",
          "2016-01-01T00:00:00.000000000",
          "2017-01-01T00:00:00.000000000"
         ],
         "xaxis": "x",
         "y": {
          "bdata": "AAAAmO/ShkEAAAAM+POYQQAAACQVH6JBAAAAAORekUEAAABswYGVQQAAACj+kJlBAAAAhurooEEAAACUa8CpQQAAAPIXTrBBAAAA0DVOqUEAAAAsx0ewQQAAAFcJ9rFBAAAARPiGs0EAAAA9xT+2QQAAAGqC5rFBAAAA0E0ZsEEAAADSqymmQQAAADQ9lqlB",
          "dtype": "f8"
         },
         "yaxis": "y"
        },
        {
         "hovertemplate": "variable=Massachusetts<br>index=%{x}<br>value=%{y}<extra></extra>",
         "legendgroup": "Massachusetts",
         "line": {
          "color": "#FF6692",
          "dash": "solid"
         },
         "marker": {
          "symbol": "circle"
         },
         "mode": "lines",
         "name": "Massachusetts",
         "orientation": "v",
         "showlegend": true,
         "type": "scatter",
         "x": [
          "1992-01-01T00:00:00.000000000",
          "1997-01-01T00:00:00.000000000",
          "2002-01-01T00:00:00.000000000",
          "2003-01-01T00:00:00.000000000",
          "2004-01-01T00:00:00.000000000",
          "2005-01-01T00:00:00.000000000",
          "2006-01-01T00:00:00.000000000",
          "2007-01-01T00:00:00.000000000",
          "2008-01-01T00:00:00.000000000",
          "2009-01-01T00:00:00.000000000",
          "2010-01-01T00:00:00.000000000",
          "2011-01-01T00:00:00.000000000",
          "2012-01-01T00:00:00.000000000",
          "2013-01-01T00:00:00.000000000",
          "2014-01-01T00:00:00.000000000",
          "2015-01-01T00:00:00.000000000",
          "2016-01-01T00:00:00.000000000",
          "2017-01-01T00:00:00.000000000"
         ],
         "xaxis": "x",
         "y": {
          "bdata": "AAAA6AHdkUEAAAC6LgGrQQAAANiAz61BAAAA1CC1p0EAAACeWq+rQQAAADY6irBBAAAAKD9WsUEAAABTDGm1QQAAAIhQV7ZBAAAA7J8kskEAAAAXjz+3QQAAAB6Y2bpBAAAAxPz1uUEAAABFRva1QQAAAIDJ87JBAAAA5D24sEEAAACERk6rQQAAAFJzAK1B",
          "dtype": "f8"
         },
         "yaxis": "y"
        },
        {
         "hovertemplate": "variable=New York<br>index=%{x}<br>value=%{y}<extra></extra>",
         "legendgroup": "New York",
         "line": {
          "color": "#B6E880",
          "dash": "solid"
         },
         "marker": {
          "symbol": "circle"
         },
         "mode": "lines",
         "name": "New York",
         "orientation": "v",
         "showlegend": true,
         "type": "scatter",
         "x": [
          "1992-01-01T00:00:00.000000000",
          "1997-01-01T00:00:00.000000000",
          "2002-01-01T00:00:00.000000000",
          "2003-01-01T00:00:00.000000000",
          "2004-01-01T00:00:00.000000000",
          "2005-01-01T00:00:00.000000000",
          "2006-01-01T00:00:00.000000000",
          "2007-01-01T00:00:00.000000000",
          "2008-01-01T00:00:00.000000000",
          "2009-01-01T00:00:00.000000000",
          "2010-01-01T00:00:00.000000000",
          "2011-01-01T00:00:00.000000000",
          "2012-01-01T00:00:00.000000000",
          "2013-01-01T00:00:00.000000000",
          "2014-01-01T00:00:00.000000000",
          "2015-01-01T00:00:00.000000000",
          "2016-01-01T00:00:00.000000000",
          "2017-01-01T00:00:00.000000000"
         ],
         "xaxis": "x",
         "y": {
          "bdata": "AAAAflAnukEAAIBq/v3IQQAAADsFOb5BAAAAxlqNtkEAAACkQGO2QQAAABqyTbhBAAAAvy7EuEEAAIB8DLjAQQAAAJNPocJBAACASDvhwUEAAIBGjVDHQQAAgPzDA89BAACA3eHNzkEAAIAJmRPIQQAAAPBLscVBAACAmOQdwkEAAIC8CwHKQQAAAMmHkMJB",
          "dtype": "f8"
         },
         "yaxis": "y"
        },
        {
         "hovertemplate": "variable=New Jersey<br>index=%{x}<br>value=%{y}<extra></extra>",
         "legendgroup": "New Jersey",
         "line": {
          "color": "#FF97FF",
          "dash": "solid"
         },
         "marker": {
          "symbol": "circle"
         },
         "mode": "lines",
         "name": "New Jersey",
         "orientation": "v",
         "showlegend": true,
         "type": "scatter",
         "x": [
          "1992-01-01T00:00:00.000000000",
          "1997-01-01T00:00:00.000000000",
          "2002-01-01T00:00:00.000000000",
          "2003-01-01T00:00:00.000000000",
          "2004-01-01T00:00:00.000000000",
          "2005-01-01T00:00:00.000000000",
          "2006-01-01T00:00:00.000000000",
          "2007-01-01T00:00:00.000000000",
          "2008-01-01T00:00:00.000000000",
          "2009-01-01T00:00:00.000000000",
          "2010-01-01T00:00:00.000000000",
          "2011-01-01T00:00:00.000000000",
          "2012-01-01T00:00:00.000000000",
          "2013-01-01T00:00:00.000000000",
          "2014-01-01T00:00:00.000000000",
          "2015-01-01T00:00:00.000000000",
          "2016-01-01T00:00:00.000000000",
          "2017-01-01T00:00:00.000000000"
         ],
         "xaxis": "x",
         "y": {
          "bdata": "AAAAICQHmUEAAADGdiayQQAAAE6lXqxBAAAAGoV5qkEAAACg3ZGsQQAAAKvUl7BBAACAtRQSwUEAAAAZZGG9QQAAgO2Dm8FBAAAAMWDow0EAAAAfZ0XHQQAAAKwSeNVBAAAAZ4V11EEAAACpU4LFQQAAAA3i7sJBAAAADlb3vEEAAABoRTq8QQAAAOoUR8RB",
          "dtype": "f8"
         },
         "yaxis": "y"
        },
        {
         "hovertemplate": "variable=North Dakota<br>index=%{x}<br>value=%{y}<extra></extra>",
         "legendgroup": "North Dakota",
         "line": {
          "color": "#FECB52",
          "dash": "solid"
         },
         "marker": {
          "symbol": "circle"
         },
         "mode": "lines",
         "name": "North Dakota",
         "orientation": "v",
         "showlegend": true,
         "type": "scatter",
         "x": [
          "1992-01-01T00:00:00.000000000",
          "1997-01-01T00:00:00.000000000",
          "2002-01-01T00:00:00.000000000",
          "2003-01-01T00:00:00.000000000",
          "2004-01-01T00:00:00.000000000",
          "2005-01-01T00:00:00.000000000",
          "2006-01-01T00:00:00.000000000",
          "2007-01-01T00:00:00.000000000",
          "2008-01-01T00:00:00.000000000",
          "2009-01-01T00:00:00.000000000",
          "2010-01-01T00:00:00.000000000",
          "2011-01-01T00:00:00.000000000",
          "2012-01-01T00:00:00.000000000",
          "2013-01-01T00:00:00.000000000",
          "2014-01-01T00:00:00.000000000",
          "2015-01-01T00:00:00.000000000",
          "2016-01-01T00:00:00.000000000",
          "2017-01-01T00:00:00.000000000"
         ],
         "xaxis": "x",
         "y": {
          "bdata": "AAAAAAAAAAAAAACAMlBVQQAAAAAAAAAAAAAAAAAAAAAAAAAAuPgzQQAAAAAjUElBAAAAgFvtU0EAAADAvjJgQQAAANCkrXlBAAAAAAAAAAAAAACAG1+BQQAAAAAAAAAAAAAAsACwfUEAAACgmQBsQQAAAPAL2nFBAAAAwFrSdkEAAACAdRtfQQAAAAAkDG5B",
          "dtype": "f8"
         },
         "yaxis": "y"
        },
        {
         "hovertemplate": "variable=West Virginia<br>index=%{x}<br>value=%{y}<extra></extra>",
         "legendgroup": "West Virginia",
         "line": {
          "color": "#636efa",
          "dash": "solid"
         },
         "marker": {
          "symbol": "circle"
         },
         "mode": "lines",
         "name": "West Virginia",
         "orientation": "v",
         "showlegend": true,
         "type": "scatter",
         "x": [
          "1992-01-01T00:00:00.000000000",
          "1997-01-01T00:00:00.000000000",
          "2002-01-01T00:00:00.000000000",
          "2003-01-01T00:00:00.000000000",
          "2004-01-01T00:00:00.000000000",
          "2005-01-01T00:00:00.000000000",
          "2006-01-01T00:00:00.000000000",
          "2007-01-01T00:00:00.000000000",
          "2008-01-01T00:00:00.000000000",
          "2009-01-01T00:00:00.000000000",
          "2010-01-01T00:00:00.000000000",
          "2011-01-01T00:00:00.000000000",
          "2012-01-01T00:00:00.000000000",
          "2013-01-01T00:00:00.000000000",
          "2014-01-01T00:00:00.000000000",
          "2015-01-01T00:00:00.000000000",
          "2016-01-01T00:00:00.000000000",
          "2017-01-01T00:00:00.000000000"
         ],
         "xaxis": "x",
         "y": {
          "bdata": "AAAAUAxfjUEAAABgRXKSQQAAACjZQI5BAAAAsAK6kEEAAADcBDWfQQAAAJyyFZtBAAAAIN3woEEAAADGFj+qQQAAAKfG8bNBAAAA0GVfs0EAAACNxlaxQQAAAMIiVL9BAAAAtUjTvkEAAACyztW2QQAAAJo/57JBAAAAqBA9rkEAAADaAyynQQAAALxXD7BB",
          "dtype": "f8"
         },
         "yaxis": "y"
        },
        {
         "hovertemplate": "variable=South Carolina<br>index=%{x}<br>value=%{y}<extra></extra>",
         "legendgroup": "South Carolina",
         "line": {
          "color": "#EF553B",
          "dash": "solid"
         },
         "marker": {
          "symbol": "circle"
         },
         "mode": "lines",
         "name": "South Carolina",
         "orientation": "v",
         "showlegend": true,
         "type": "scatter",
         "x": [
          "1992-01-01T00:00:00.000000000",
          "1997-01-01T00:00:00.000000000",
          "2002-01-01T00:00:00.000000000",
          "2003-01-01T00:00:00.000000000",
          "2004-01-01T00:00:00.000000000",
          "2005-01-01T00:00:00.000000000",
          "2006-01-01T00:00:00.000000000",
          "2007-01-01T00:00:00.000000000",
          "2008-01-01T00:00:00.000000000",
          "2009-01-01T00:00:00.000000000",
          "2010-01-01T00:00:00.000000000",
          "2011-01-01T00:00:00.000000000",
          "2012-01-01T00:00:00.000000000",
          "2013-01-01T00:00:00.000000000",
          "2014-01-01T00:00:00.000000000",
          "2015-01-01T00:00:00.000000000",
          "2016-01-01T00:00:00.000000000",
          "2017-01-01T00:00:00.000000000"
         ],
         "xaxis": "x",
         "y": {
          "bdata": "AAAAEHNjfkEAAABSx9yjQQAAAGJd66hBAAAA/twiqEEAAAAQdWquQQAAAEJVLa1BAAAAVrirq0EAAAAHVIizQQAAAF+MC7pBAAAAK89ptEEAAID6JlXAQQAAAAoRn8FBAACAPuYYxUEAAIC+2y3DQQAAAAz5iMBBAAAARGVKukEAAAAnkdmzQQAAAHz5xLNB",
          "dtype": "f8"
         },
         "yaxis": "y"
        }
       ],
       "layout": {
        "legend": {
         "title": {
          "text": "variable"
         },
         "tracegroupgap": 0
        },
        "margin": {
         "t": 60
        },
        "template": {
         "data": {
          "bar": [
           {
            "error_x": {
             "color": "#2a3f5f"
            },
            "error_y": {
             "color": "#2a3f5f"
            },
            "marker": {
             "line": {
              "color": "#E5ECF6",
              "width": 0.5
             },
             "pattern": {
              "fillmode": "overlay",
              "size": 10,
              "solidity": 0.2
             }
            },
            "type": "bar"
           }
          ],
          "barpolar": [
           {
            "marker": {
             "line": {
              "color": "#E5ECF6",
              "width": 0.5
             },
             "pattern": {
              "fillmode": "overlay",
              "size": 10,
              "solidity": 0.2
             }
            },
            "type": "barpolar"
           }
          ],
          "carpet": [
           {
            "aaxis": {
             "endlinecolor": "#2a3f5f",
             "gridcolor": "white",
             "linecolor": "white",
             "minorgridcolor": "white",
             "startlinecolor": "#2a3f5f"
            },
            "baxis": {
             "endlinecolor": "#2a3f5f",
             "gridcolor": "white",
             "linecolor": "white",
             "minorgridcolor": "white",
             "startlinecolor": "#2a3f5f"
            },
            "type": "carpet"
           }
          ],
          "choropleth": [
           {
            "colorbar": {
             "outlinewidth": 0,
             "ticks": ""
            },
            "type": "choropleth"
           }
          ],
          "contour": [
           {
            "colorbar": {
             "outlinewidth": 0,
             "ticks": ""
            },
            "colorscale": [
             [
              0,
              "#0d0887"
             ],
             [
              0.1111111111111111,
              "#46039f"
             ],
             [
              0.2222222222222222,
              "#7201a8"
             ],
             [
              0.3333333333333333,
              "#9c179e"
             ],
             [
              0.4444444444444444,
              "#bd3786"
             ],
             [
              0.5555555555555556,
              "#d8576b"
             ],
             [
              0.6666666666666666,
              "#ed7953"
             ],
             [
              0.7777777777777778,
              "#fb9f3a"
             ],
             [
              0.8888888888888888,
              "#fdca26"
             ],
             [
              1,
              "#f0f921"
             ]
            ],
            "type": "contour"
           }
          ],
          "contourcarpet": [
           {
            "colorbar": {
             "outlinewidth": 0,
             "ticks": ""
            },
            "type": "contourcarpet"
           }
          ],
          "heatmap": [
           {
            "colorbar": {
             "outlinewidth": 0,
             "ticks": ""
            },
            "colorscale": [
             [
              0,
              "#0d0887"
             ],
             [
              0.1111111111111111,
              "#46039f"
             ],
             [
              0.2222222222222222,
              "#7201a8"
             ],
             [
              0.3333333333333333,
              "#9c179e"
             ],
             [
              0.4444444444444444,
              "#bd3786"
             ],
             [
              0.5555555555555556,
              "#d8576b"
             ],
             [
              0.6666666666666666,
              "#ed7953"
             ],
             [
              0.7777777777777778,
              "#fb9f3a"
             ],
             [
              0.8888888888888888,
              "#fdca26"
             ],
             [
              1,
              "#f0f921"
             ]
            ],
            "type": "heatmap"
           }
          ],
          "histogram": [
           {
            "marker": {
             "pattern": {
              "fillmode": "overlay",
              "size": 10,
              "solidity": 0.2
             }
            },
            "type": "histogram"
           }
          ],
          "histogram2d": [
           {
            "colorbar": {
             "outlinewidth": 0,
             "ticks": ""
            },
            "colorscale": [
             [
              0,
              "#0d0887"
             ],
             [
              0.1111111111111111,
              "#46039f"
             ],
             [
              0.2222222222222222,
              "#7201a8"
             ],
             [
              0.3333333333333333,
              "#9c179e"
             ],
             [
              0.4444444444444444,
              "#bd3786"
             ],
             [
              0.5555555555555556,
              "#d8576b"
             ],
             [
              0.6666666666666666,
              "#ed7953"
             ],
             [
              0.7777777777777778,
              "#fb9f3a"
             ],
             [
              0.8888888888888888,
              "#fdca26"
             ],
             [
              1,
              "#f0f921"
             ]
            ],
            "type": "histogram2d"
           }
          ],
          "histogram2dcontour": [
           {
            "colorbar": {
             "outlinewidth": 0,
             "ticks": ""
            },
            "colorscale": [
             [
              0,
              "#0d0887"
             ],
             [
              0.1111111111111111,
              "#46039f"
             ],
             [
              0.2222222222222222,
              "#7201a8"
             ],
             [
              0.3333333333333333,
              "#9c179e"
             ],
             [
              0.4444444444444444,
              "#bd3786"
             ],
             [
              0.5555555555555556,
              "#d8576b"
             ],
             [
              0.6666666666666666,
              "#ed7953"
             ],
             [
              0.7777777777777778,
              "#fb9f3a"
             ],
             [
              0.8888888888888888,
              "#fdca26"
             ],
             [
              1,
              "#f0f921"
             ]
            ],
            "type": "histogram2dcontour"
           }
          ],
          "mesh3d": [
           {
            "colorbar": {
             "outlinewidth": 0,
             "ticks": ""
            },
            "type": "mesh3d"
           }
          ],
          "parcoords": [
           {
            "line": {
             "colorbar": {
              "outlinewidth": 0,
              "ticks": ""
             }
            },
            "type": "parcoords"
           }
          ],
          "pie": [
           {
            "automargin": true,
            "type": "pie"
           }
          ],
          "scatter": [
           {
            "fillpattern": {
             "fillmode": "overlay",
             "size": 10,
             "solidity": 0.2
            },
            "type": "scatter"
           }
          ],
          "scatter3d": [
           {
            "line": {
             "colorbar": {
              "outlinewidth": 0,
              "ticks": ""
             }
            },
            "marker": {
             "colorbar": {
              "outlinewidth": 0,
              "ticks": ""
             }
            },
            "type": "scatter3d"
           }
          ],
          "scattercarpet": [
           {
            "marker": {
             "colorbar": {
              "outlinewidth": 0,
              "ticks": ""
             }
            },
            "type": "scattercarpet"
           }
          ],
          "scattergeo": [
           {
            "marker": {
             "colorbar": {
              "outlinewidth": 0,
              "ticks": ""
             }
            },
            "type": "scattergeo"
           }
          ],
          "scattergl": [
           {
            "marker": {
             "colorbar": {
              "outlinewidth": 0,
              "ticks": ""
             }
            },
            "type": "scattergl"
           }
          ],
          "scattermap": [
           {
            "marker": {
             "colorbar": {
              "outlinewidth": 0,
              "ticks": ""
             }
            },
            "type": "scattermap"
           }
          ],
          "scattermapbox": [
           {
            "marker": {
             "colorbar": {
              "outlinewidth": 0,
              "ticks": ""
             }
            },
            "type": "scattermapbox"
           }
          ],
          "scatterpolar": [
           {
            "marker": {
             "colorbar": {
              "outlinewidth": 0,
              "ticks": ""
             }
            },
            "type": "scatterpolar"
           }
          ],
          "scatterpolargl": [
           {
            "marker": {
             "colorbar": {
              "outlinewidth": 0,
              "ticks": ""
             }
            },
            "type": "scatterpolargl"
           }
          ],
          "scatterternary": [
           {
            "marker": {
             "colorbar": {
              "outlinewidth": 0,
              "ticks": ""
             }
            },
            "type": "scatterternary"
           }
          ],
          "surface": [
           {
            "colorbar": {
             "outlinewidth": 0,
             "ticks": ""
            },
            "colorscale": [
             [
              0,
              "#0d0887"
             ],
             [
              0.1111111111111111,
              "#46039f"
             ],
             [
              0.2222222222222222,
              "#7201a8"
             ],
             [
              0.3333333333333333,
              "#9c179e"
             ],
             [
              0.4444444444444444,
              "#bd3786"
             ],
             [
              0.5555555555555556,
              "#d8576b"
             ],
             [
              0.6666666666666666,
              "#ed7953"
             ],
             [
              0.7777777777777778,
              "#fb9f3a"
             ],
             [
              0.8888888888888888,
              "#fdca26"
             ],
             [
              1,
              "#f0f921"
             ]
            ],
            "type": "surface"
           }
          ],
          "table": [
           {
            "cells": {
             "fill": {
              "color": "#EBF0F8"
             },
             "line": {
              "color": "white"
             }
            },
            "header": {
             "fill": {
              "color": "#C8D4E3"
             },
             "line": {
              "color": "white"
             }
            },
            "type": "table"
           }
          ]
         },
         "layout": {
          "annotationdefaults": {
           "arrowcolor": "#2a3f5f",
           "arrowhead": 0,
           "arrowwidth": 1
          },
          "autotypenumbers": "strict",
          "coloraxis": {
           "colorbar": {
            "outlinewidth": 0,
            "ticks": ""
           }
          },
          "colorscale": {
           "diverging": [
            [
             0,
             "#8e0152"
            ],
            [
             0.1,
             "#c51b7d"
            ],
            [
             0.2,
             "#de77ae"
            ],
            [
             0.3,
             "#f1b6da"
            ],
            [
             0.4,
             "#fde0ef"
            ],
            [
             0.5,
             "#f7f7f7"
            ],
            [
             0.6,
             "#e6f5d0"
            ],
            [
             0.7,
             "#b8e186"
            ],
            [
             0.8,
             "#7fbc41"
            ],
            [
             0.9,
             "#4d9221"
            ],
            [
             1,
             "#276419"
            ]
           ],
           "sequential": [
            [
             0,
             "#0d0887"
            ],
            [
             0.1111111111111111,
             "#46039f"
            ],
            [
             0.2222222222222222,
             "#7201a8"
            ],
            [
             0.3333333333333333,
             "#9c179e"
            ],
            [
             0.4444444444444444,
             "#bd3786"
            ],
            [
             0.5555555555555556,
             "#d8576b"
            ],
            [
             0.6666666666666666,
             "#ed7953"
            ],
            [
             0.7777777777777778,
             "#fb9f3a"
            ],
            [
             0.8888888888888888,
             "#fdca26"
            ],
            [
             1,
             "#f0f921"
            ]
           ],
           "sequentialminus": [
            [
             0,
             "#0d0887"
            ],
            [
             0.1111111111111111,
             "#46039f"
            ],
            [
             0.2222222222222222,
             "#7201a8"
            ],
            [
             0.3333333333333333,
             "#9c179e"
            ],
            [
             0.4444444444444444,
             "#bd3786"
            ],
            [
             0.5555555555555556,
             "#d8576b"
            ],
            [
             0.6666666666666666,
             "#ed7953"
            ],
            [
             0.7777777777777778,
             "#fb9f3a"
            ],
            [
             0.8888888888888888,
             "#fdca26"
            ],
            [
             1,
             "#f0f921"
            ]
           ]
          },
          "colorway": [
           "#636efa",
           "#EF553B",
           "#00cc96",
           "#ab63fa",
           "#FFA15A",
           "#19d3f3",
           "#FF6692",
           "#B6E880",
           "#FF97FF",
           "#FECB52"
          ],
          "font": {
           "color": "#2a3f5f"
          },
          "geo": {
           "bgcolor": "white",
           "lakecolor": "white",
           "landcolor": "#E5ECF6",
           "showlakes": true,
           "showland": true,
           "subunitcolor": "white"
          },
          "hoverlabel": {
           "align": "left"
          },
          "hovermode": "closest",
          "mapbox": {
           "style": "light"
          },
          "paper_bgcolor": "white",
          "plot_bgcolor": "#E5ECF6",
          "polar": {
           "angularaxis": {
            "gridcolor": "white",
            "linecolor": "white",
            "ticks": ""
           },
           "bgcolor": "#E5ECF6",
           "radialaxis": {
            "gridcolor": "white",
            "linecolor": "white",
            "ticks": ""
           }
          },
          "scene": {
           "xaxis": {
            "backgroundcolor": "#E5ECF6",
            "gridcolor": "white",
            "gridwidth": 2,
            "linecolor": "white",
            "showbackground": true,
            "ticks": "",
            "zerolinecolor": "white"
           },
           "yaxis": {
            "backgroundcolor": "#E5ECF6",
            "gridcolor": "white",
            "gridwidth": 2,
            "linecolor": "white",
            "showbackground": true,
            "ticks": "",
            "zerolinecolor": "white"
           },
           "zaxis": {
            "backgroundcolor": "#E5ECF6",
            "gridcolor": "white",
            "gridwidth": 2,
            "linecolor": "white",
            "showbackground": true,
            "ticks": "",
            "zerolinecolor": "white"
           }
          },
          "shapedefaults": {
           "line": {
            "color": "#2a3f5f"
           }
          },
          "ternary": {
           "aaxis": {
            "gridcolor": "white",
            "linecolor": "white",
            "ticks": ""
           },
           "baxis": {
            "gridcolor": "white",
            "linecolor": "white",
            "ticks": ""
           },
           "bgcolor": "#E5ECF6",
           "caxis": {
            "gridcolor": "white",
            "linecolor": "white",
            "ticks": ""
           }
          },
          "title": {
           "x": 0.05
          },
          "xaxis": {
           "automargin": true,
           "gridcolor": "white",
           "linecolor": "white",
           "ticks": "",
           "title": {
            "standoff": 15
           },
           "zerolinecolor": "white",
           "zerolinewidth": 2
          },
          "yaxis": {
           "automargin": true,
           "gridcolor": "white",
           "linecolor": "white",
           "ticks": "",
           "title": {
            "standoff": 15
           },
           "zerolinecolor": "white",
           "zerolinewidth": 2
          }
         }
        },
        "xaxis": {
         "anchor": "y",
         "domain": [
          0,
          1
         ],
         "title": {
          "text": "index"
         }
        },
        "yaxis": {
         "anchor": "x",
         "domain": [
          0,
          1
         ],
         "title": {
          "text": "value"
         }
        }
       }
      }
     },
     "metadata": {},
     "output_type": "display_data"
    }
   ],
   "source": [
    "px.line(exports)"
   ]
  },
  {
   "cell_type": "code",
   "execution_count": 75,
   "id": "2d8b1d9e",
   "metadata": {},
   "outputs": [],
   "source": [
    "# index by year\n",
    "exports.index = exports.index.year"
   ]
  },
  {
   "cell_type": "code",
   "execution_count": 76,
   "id": "6dca1bec",
   "metadata": {},
   "outputs": [],
   "source": [
    "# melhorar legibilidade dos valores\n",
    "def format_monetary(x):\n",
    "    if x >= 1e9:\n",
    "        return f\"${x/1e9:.2f}B\"\n",
    "    elif x >= 1e6:\n",
    "        return f\"${x/1e6:.2f}M\"\n",
    "    else:\n",
    "        return f\"${x:.2f}\""
   ]
  },
  {
   "cell_type": "code",
   "execution_count": 77,
   "id": "6340647e",
   "metadata": {},
   "outputs": [
    {
     "name": "stderr",
     "output_type": "stream",
     "text": [
      "C:\\Users\\User\\AppData\\Local\\Temp\\ipykernel_6868\\2795949771.py:7: MatplotlibDeprecationWarning:\n",
      "\n",
      "The get_cmap function was deprecated in Matplotlib 3.7 and will be removed in 3.11. Use ``matplotlib.colormaps[name]`` or ``matplotlib.colormaps.get_cmap()`` or ``pyplot.get_cmap()`` instead.\n",
      "\n"
     ]
    }
   ],
   "source": [
    "# identificar os estados que aparecem pelo menos uma vez no top 5 de qualquer ano\n",
    "top5_states = set()\n",
    "for _, row in exports.iterrows():\n",
    "    top5_states.update(row.nlargest(5).index)\n",
    "    \n",
    "# dicionário com uma cor para cada estado\n",
    "colors = plt.cm.get_cmap('tab20', len(top5_states)) \n",
    "state_colors = {state: colors(i) for i, state in enumerate(top5_states)}"
   ]
  },
  {
   "cell_type": "code",
   "execution_count": 78,
   "id": "fb935504",
   "metadata": {},
   "outputs": [
    {
     "data": {
      "image/png": "[encoded data removed]",
      "text/plain": [
       "<Figure size 3000x3000 with 18 Axes>"
      ]
     },
     "metadata": {},
     "output_type": "display_data"
    }
   ],
   "source": [
    "fig, axes = plt.subplots(nrows=6, ncols=3, figsize=(30, 30))  \n",
    "axes = axes.flatten()\n",
    "\n",
    "for i, (year, row) in enumerate(exports.iterrows()):\n",
    "    top5 = row.nlargest(5)\n",
    "        \n",
    "    # relacionar os estados com suas cores\n",
    "    colors = [state_colors[state] for state in top5.index]\n",
    "\n",
    "    ax = axes[i]\n",
    "    top5.plot(kind='bar', color=colors, ax=ax, width=0.9)\n",
    "    \n",
    "    # adicionar rótulos de valor\n",
    "    ax.bar_label(ax.containers[0], labels=[format_monetary(v) for v in top5])\n",
    "    \n",
    "    ax.set_yticks([])\n",
    "\n",
    "    ax.set_title(f\"Top 5 States in {year}\")\n",
    "    ax.set_ylabel(\"Export Value (USD)\")\n",
    "    ax.tick_params(axis='x', rotation=0)\n",
    "\n",
    "plt.tight_layout()\n",
    "\n",
    "plt.show()"
   ]
  },
  {
   "cell_type": "code",
   "execution_count": 79,
   "id": "0ff23f36",
   "metadata": {},
   "outputs": [
    {
     "data": {
      "image/png": "[encoded data removed]",
      "text/plain": [
       "<Figure size 640x480 with 1 Axes>"
      ]
     },
     "metadata": {},
     "output_type": "display_data"
    }
   ],
   "source": [
    "total_exports = exports.sum()\n",
    "\n",
    "# top 5 de todos os tempos\n",
    "top5_all_time = total_exports.nlargest(5)\n",
    "\n",
    "colors = [state_colors[state] for state in top5_all_time.index]\n",
    "\n",
    "ax = top5_all_time.plot(kind='bar', color=colors, width=0.9)\n",
    "    \n",
    "ax.bar_label(ax.containers[0], labels=[format_monetary(v) for v in top5_all_time])\n",
    "    \n",
    "ax.set_yticks([])\n",
    "\n",
    "ax.set_title(f\"Top 5 States of All Time\")\n",
    "ax.set_ylabel(\"Export Value (USD)\")\n",
    "\n",
    "ax.tick_params(axis='x', rotation=0)\n",
    "\n",
    "plt.tight_layout()\n",
    "\n",
    "plt.show()\n",
    "\n",
    "\n"
   ]
  }
 ],
 "metadata": {
  "kernelspec": {
   "display_name": "venv",
   "language": "python",
   "name": "python3"
  },
  "language_info": {
   "codemirror_mode": {
    "name": "ipython",
    "version": 3
   },
   "file_extension": ".py",
   "mimetype": "text/x-python",
   "name": "python",
   "nbconvert_exporter": "python",
   "pygments_lexer": "ipython3",
   "version": "3.11.9"
  }
 },
 "nbformat": 4,
 "nbformat_minor": 5
}
